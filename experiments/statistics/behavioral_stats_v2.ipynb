{
 "cells": [
  {
   "attachments": {},
   "cell_type": "markdown",
   "id": "bb489560",
   "metadata": {},
   "source": [
    "This notebook is for taking statistics over thousands of runs, in order to analyze which maze features (e.g. distance to cheese) tend to affect decision-making. "
   ]
  },
  {
   "cell_type": "code",
   "execution_count": 33,
   "id": "af4881a7",
   "metadata": {
    "ExecuteTime": {
     "end_time": "2023-09-26T23:18:17.836811745Z",
     "start_time": "2023-09-26T23:18:17.035009124Z"
    }
   },
   "outputs": [
    {
     "name": "stdout",
     "output_type": "stream",
     "text": [
      "Already downloaded https://nerdsniper.net/mats/episode_stats_data.tgz\n",
      "Already downloaded https://nerdsniper.net/mats/model_rand_region_5.pth\n"
     ]
    }
   ],
   "source": [
    "try:\n",
    "    import procgen_tools\n",
    "except ImportError:\n",
    "    get_ipython().run_line_magic(\n",
    "        magic_name=\"pip\",\n",
    "        line=\"install -U git+https://github.com/ulissemini/procgen-tools\",\n",
    "    )\n",
    "\n",
    "from procgen_tools.utils import setup\n",
    "\n",
    "setup(dl_stats=True)  # create directory structure and download data"
   ]
  },
  {
   "cell_type": "code",
   "execution_count": 34,
   "id": "c479b48f",
   "metadata": {
    "ExecuteTime": {
     "end_time": "2023-09-26T23:18:17.926784036Z",
     "start_time": "2023-09-26T23:18:17.056569957Z"
    }
   },
   "outputs": [],
   "source": [
    "%matplotlib inline\n",
    "import matplotlib.pyplot as plt\n",
    "\n",
    "import numpy as np\n",
    "from procgen import ProcgenGym3Env\n",
    "from procgen_tools import maze\n",
    "from procgen_tools.models import load_policy\n",
    "from procgen_tools.metrics import metrics, decision_square \n",
    "from procgen_tools.data_utils import load_episode\n",
    "\n",
    "from IPython import display\n",
    "from glob import glob\n",
    "import pickle\n",
    "from tqdm import tqdm\n",
    "\n",
    "import os\n",
    "from collections import defaultdict\n",
    "\n",
    "import pandas as pd\n",
    "from sklearn import linear_model\n",
    "import statsmodels.api as sm\n",
    "from sklearn.linear_model import LogisticRegression\n",
    "from scipy import stats\n",
    "from sklearn.model_selection import train_test_split\n",
    "\n",
    "import random \n",
    "from typing import List, Tuple, Any, Dict, Union, Optional\n",
    "\n",
    "import prettytable "
   ]
  },
  {
   "cell_type": "code",
   "execution_count": 35,
   "id": "0ff6529e",
   "metadata": {
    "ExecuteTime": {
     "end_time": "2023-09-26T23:18:17.978034433Z",
     "start_time": "2023-09-26T23:18:17.094918130Z"
    }
   },
   "outputs": [],
   "source": [
    "# Handle text formatting\n",
    "def bold_text(text: str):\n",
    "    return \"\\033[1m\" + text + \"\\033[0m\"\n",
    "\n",
    "\n",
    "# In the \"Understanding and controlling a maze-solving policy network\" post, we claimed that the following attributes are important. We'll often bold them in the text.\n",
    "claimed_attributes = [\n",
    "    \"steps_between_cheese_decision_square\",\n",
    "    \"euc_dist_cheese_decision_square\",\n",
    "    \"euc_dist_cheese_top_right\",\n",
    "    \"euc_dist_decision_square_5x5\",\n",
    "]\n",
    "\n",
    "\n",
    "def english_attr(attr: str) -> str:\n",
    "    \"\"\"Maps an attribute to its English name.\"\"\"\n",
    "    if attr == \"steps_between_cheese_5x5\":\n",
    "        return \"Steps between cheese and top-right 5x5\"\n",
    "    elif attr == \"euc_dist_cheese_5x5\":\n",
    "        return \"Euclidean distance between cheese and top-right 5x5\"\n",
    "    elif attr == \"steps_between_decision_square_5x5\":\n",
    "        return \"Steps between decision square and top-right 5x5\"\n",
    "    elif attr == \"euc_dist_decision_square_5x5\":\n",
    "        return \"Euclidean distance between decision square and top-right 5x5\"\n",
    "    elif attr == \"steps_between_cheese_top_right\":\n",
    "        return \"Steps between cheese and top right square\"\n",
    "    elif attr == \"euc_dist_cheese_top_right\":\n",
    "        return \"Euclidean distance between cheese and top right square\"\n",
    "    elif attr == \"steps_between_decision_square_top_right\":\n",
    "        return \"Steps between decision square and top right square\"\n",
    "    elif attr == \"euc_dist_decision_square_top_right\":\n",
    "        return (\n",
    "            \"Euclidean distance between decision square and top right square\"\n",
    "        )\n",
    "    elif attr == \"steps_between_cheese_decision_square\":\n",
    "        return \"Steps between cheese and decision square\"\n",
    "    elif attr == \"euc_dist_cheese_decision_square\":\n",
    "        return \"Euclidean distance between cheese and decision square\"\n",
    "    elif attr == \"cheese_coord_norm\":\n",
    "        return \"Norm of cheese coordinate\"\n",
    "    elif attr == \"taxi_dist_cheese_decision_square\":\n",
    "        return \"Taxicab distance between cheese and decision square\"\n",
    "    elif attr == \"taxi_dist_cheese_top_right\":\n",
    "        return \"Taxicab distance between cheese and top right square\"\n",
    "    elif attr == \"taxi_dist_decision_square_top_right\":\n",
    "        return \"Taxicab distance between decision square and top right square\"\n",
    "    elif attr == \"taxi_dist_cheese_5x5\":\n",
    "        return \"Taxicab distance between cheese and top-right 5x5\"\n",
    "    elif attr == \"taxi_dist_decision_square_5x5\":\n",
    "        return \"Taxicab distance between decision square and top-right 5x5\"\n",
    "    else:\n",
    "        raise ValueError(f\"Unknown attribute {attr}\")\n",
    "\n",
    "\n",
    "def format_attr(attr: str):\n",
    "    attr_str = english_attr(attr)\n",
    "    return bold_text(attr_str) if attr in claimed_attributes else attr_str"
   ]
  },
  {
   "cell_type": "code",
   "execution_count": 36,
   "outputs": [],
   "source": [
    "# for rand region of 6, all pickle files were gzipped for some reason. Undoing so here\n",
    "# import gzip\n",
    "# import pickle\n",
    "#\n",
    "# files = glob(\"experiments/statistics/data/model_rand_region_6/*.pkl.gz\")\n",
    "# for f in files:\n",
    "#     print(f)\n",
    "#     with gzip.open(f, \"rb\") as f_in:\n",
    "#         with open(f[:-3], \"wb\") as f_out:\n",
    "#             f_out.write(f_in.read())"
   ],
   "metadata": {
    "collapsed": false,
    "ExecuteTime": {
     "end_time": "2023-09-26T23:18:18.019402817Z",
     "start_time": "2023-09-26T23:18:17.095177460Z"
    }
   }
  },
  {
   "cell_type": "code",
   "execution_count": 37,
   "id": "04235c2e",
   "metadata": {
    "ExecuteTime": {
     "end_time": "2023-09-26T23:18:18.791766816Z",
     "start_time": "2023-09-26T23:18:17.095392226Z"
    }
   },
   "outputs": [],
   "source": [
    "rand_region = 1\n",
    "file_path = f\"experiments/statistics/behav_stats_diff_model_coeffs/rand_region_{rand_region}.txt\"\n",
    "file = open(file_path, \"w\")\n",
    "model_name: str = f\"model_rand_region_{rand_region}\"\n",
    "files = glob(f\"experiments/statistics/data/{model_name}/*.pkl\")\n",
    "runs = []\n",
    "for f in files:\n",
    "    try:\n",
    "        runs.append(load_episode(f, load_venv=False))\n",
    "    except (AssertionError, KeyError) as e:\n",
    "        print(f\"Malformed file {f}: {e}\")\n",
    "        os.remove(f)\n",
    "\n",
    "print(f\"Loaded {len(runs)} runs\", file=file)"
   ]
  },
  {
   "attachments": {},
   "cell_type": "markdown",
   "id": "dc216e38",
   "metadata": {},
   "source": [
    "We only consider mazes which have decision squares, since these are the\n",
    "mazes where the policy confronts a nontrivial choice (between the cheese\n",
    "and the top-right corner). Furthermore, we check that the cheese\n",
    "isn't in the top-right 5x5 corner of the reachable maze. This ensures we\n",
    "aren't sampling from the training distribution."
   ]
  },
  {
   "cell_type": "code",
   "execution_count": 38,
   "id": "151864ae",
   "metadata": {
    "ExecuteTime": {
     "end_time": "2023-09-26T23:19:37.377524201Z",
     "start_time": "2023-09-26T23:18:18.508357347Z"
    }
   },
   "outputs": [
    {
     "name": "stderr",
     "output_type": "stream",
     "text": [
      "100%|██████████| 1000/1000 [01:18<00:00, 12.70it/s]\n"
     ]
    }
   ],
   "source": [
    "recorded_metrics = defaultdict(list)\n",
    "recorded_runs = []\n",
    "got_cheese = []\n",
    "max_eps: int = 1000  # Only consider a subset of the episodes, for consistency\n",
    "\n",
    "for run in tqdm(runs[:max_eps]):\n",
    "    g = run.grid()\n",
    "    if decision_square(g) is None or (g[-5:, -5:] == maze.CHEESE).any():\n",
    "        continue\n",
    "    for name, metric in metrics.items():\n",
    "        recorded_metrics[name].append(metric(g))\n",
    "    got_cheese.append(float(run.got_cheese))\n",
    "    recorded_runs.append(run)\n",
    "\n",
    "runs = recorded_runs\n",
    "del recorded_runs\n",
    "got_cheese = np.array(got_cheese)\n",
    "\n",
    "print(f\"Considering {len(runs)} runs\", file=file)"
   ]
  },
  {
   "cell_type": "code",
   "execution_count": 39,
   "id": "e6cb7919",
   "metadata": {
    "ExecuteTime": {
     "end_time": "2023-09-26T23:19:37.405564537Z",
     "start_time": "2023-09-26T23:19:37.297719709Z"
    }
   },
   "outputs": [],
   "source": [
    "# We want to turn the metrics into a dataframe, so we have to convert them to numpy arrays\n",
    "for name, metric in recorded_metrics.items():\n",
    "    recorded_metrics[name] = np.array(metric)"
   ]
  },
  {
   "cell_type": "code",
   "execution_count": 40,
   "id": "a207f4ea",
   "metadata": {
    "ExecuteTime": {
     "end_time": "2023-09-26T23:19:37.460895254Z",
     "start_time": "2023-09-26T23:19:37.308349533Z"
    }
   },
   "outputs": [],
   "source": [
    "prob = sum(got_cheese) / len(got_cheese)\n",
    "print(f\"P(get cheese | decision square, cheese not in top {rand_region}x{rand_region}) = {prob:.3f}\", file=file)"
   ]
  },
  {
   "attachments": {},
   "cell_type": "markdown",
   "id": "f00443e8",
   "metadata": {},
   "source": [
    "We can explore the data itself."
   ]
  },
  {
   "attachments": {},
   "cell_type": "markdown",
   "id": "560a4e90",
   "metadata": {},
   "source": [
    "And see how the data points relate to each other. Many exhibit natural correlations from the dataset."
   ]
  },
  {
   "cell_type": "code",
   "execution_count": 41,
   "outputs": [],
   "source": [
    "# Show the correlation matrix in plotly\n",
    "final_metrics = [\"euc_dist_cheese_decision_square\"]\n",
    "\n",
    "correlations = np.zeros((len(recorded_metrics), len(recorded_metrics)))\n",
    "for i, metric1 in enumerate(recorded_metrics.keys()):\n",
    "    for j, metric2 in enumerate(recorded_metrics.keys()):\n",
    "        correlations[i, j] = np.corrcoef(\n",
    "            recorded_metrics[metric1], recorded_metrics[metric2]\n",
    "        )[0, 1]\n"
   ],
   "metadata": {
    "collapsed": false,
    "ExecuteTime": {
     "end_time": "2023-09-26T23:19:37.508375846Z",
     "start_time": "2023-09-26T23:19:37.340929105Z"
    }
   }
  },
  {
   "cell_type": "code",
   "execution_count": 42,
   "id": "8514cf7b",
   "metadata": {
    "ExecuteTime": {
     "end_time": "2023-09-26T23:19:37.535696363Z",
     "start_time": "2023-09-26T23:19:37.408761101Z"
    }
   },
   "outputs": [],
   "source": [
    "# Get the top k absolute value correlations, ignoring diagonals\n",
    "k = 50\n",
    "len_diagonal = len(correlations)\n",
    "topk = np.argsort(np.abs(correlations).flatten())[-(k + len_diagonal) :][\n",
    "    ::-1\n",
    "]  # Diagonal will be 1, so just add in len_diagonal\n",
    "\n",
    "# Print the top k correlations in a pretty table\n",
    "table = prettytable.PrettyTable()\n",
    "table.field_names = map(bold_text, [\"Metric 1\", \"Correlation\", \"Metric 2\"])\n",
    "\n",
    "for i in topk:\n",
    "    # Get the row and column of the correlation\n",
    "    row, col = i // len(correlations), i % len(correlations)\n",
    "    # Ignore the diagonal and the lower triangle\n",
    "    if row >= col:\n",
    "        continue\n",
    "    # Get the metric names\n",
    "    metric1, metric2 = (\n",
    "        list(recorded_metrics.keys())[row],\n",
    "        list(recorded_metrics.keys())[col],\n",
    "    )\n",
    "    # Add the row to the table\n",
    "    table.add_row(\n",
    "        [\n",
    "            format_attr(metric1),\n",
    "            f\"{correlations[row, col]:.3f}\",\n",
    "            format_attr(metric2),\n",
    "        ]\n",
    "    )\n",
    "\n",
    "print(table, file=file)"
   ]
  },
  {
   "cell_type": "code",
   "execution_count": 43,
   "id": "e51004a0",
   "metadata": {
    "ExecuteTime": {
     "end_time": "2023-09-26T23:19:37.601483343Z",
     "start_time": "2023-09-26T23:19:37.450466958Z"
    }
   },
   "outputs": [],
   "source": [
    "def run_regression(attrs: List[str], data_frame: pd.DataFrame):\n",
    "    \"\"\"Runs a LASSO-regularized regression on the data using the given attributes. Returns the clf.\"\"\"\n",
    "    assert len(attrs) > 0, \"Must have at least one attribute to regress upon\"\n",
    "    for attr in attrs:\n",
    "        assert attr in data_frame, f\"Attribute {attr} not in data frame\"\n",
    "    assert \"cheese\" in data_frame, \"Attribute 'cheese' not in data frame\"\n",
    "\n",
    "    x = data_frame[attrs]\n",
    "    y = np.ravel(data_frame[[\"cheese\"]])\n",
    "\n",
    "    clf = LogisticRegression(\n",
    "        random_state=0, solver=\"liblinear\", penalty=\"l1\"\n",
    "    ).fit(x, y)\n",
    "    return clf\n",
    "\n",
    "\n",
    "def compute_avg_accuracy(\n",
    "    attrs: List[str], data_frame: pd.DataFrame, num_runs: int\n",
    ") -> float:\n",
    "    \"\"\"Runs a LASSO-regularized regression num_runs times on the data using the given attributes. Returns the average accuracy.\"\"\"\n",
    "    assert len(attrs) > 0, \"Must have at least one attribute to regress upon\"\n",
    "    assert num_runs > 0, \"Must run at least one time\"\n",
    "\n",
    "    accuracies = []\n",
    "    for i in range(num_runs):\n",
    "        train, test = train_test_split(data_frame, test_size=0.2)\n",
    "        clf = run_regression(attrs, train)\n",
    "        accuracies.append(clf.score(test[attrs], test[\"cheese\"]))\n",
    "    return np.mean(accuracies)\n",
    "\n",
    "\n",
    "def display_coeff_table(clf: Any, attrs: List[str]):\n",
    "    \"\"\"Displays the coefficients for each attribute, printing the label next to each coefficient.\"\"\"\n",
    "    assert len(attrs) > 0, \"Must have at least one attribute\"\n",
    "\n",
    "    # Print the coefficient for each attribute, printing the label next to each coefficient\n",
    "    table = prettytable.PrettyTable()\n",
    "    table.field_names = [bold_text(\"Attribute\"), bold_text(\"Coefficient\")]\n",
    "    for i, attr in enumerate(attrs):\n",
    "        table.add_row([format_attr(attr), f\"{clf.coef_[0][i]:.3f}\"])\n",
    "\n",
    "    # Add a row for the intercept\n",
    "    table.add_row([\"Intercept\", f\"{clf.intercept_[0]:.3f}\"])\n",
    "    print(table, file=file)"
   ]
  },
  {
   "attachments": {},
   "cell_type": "markdown",
   "id": "d5bf611e",
   "metadata": {},
   "source": [
    "# Using maze features to predict whether the mouse got the cheese "
   ]
  },
  {
   "cell_type": "code",
   "execution_count": 44,
   "id": "1f3f5156",
   "metadata": {
    "ExecuteTime": {
     "end_time": "2023-09-26T23:19:38.558272100Z",
     "start_time": "2023-09-26T23:19:37.494462949Z"
    }
   },
   "outputs": [],
   "source": [
    "keys = list(recorded_metrics.keys())\n",
    "data = {key: recorded_metrics[key] for key in keys}\n",
    "df = pd.DataFrame(data)\n",
    "\n",
    "df = stats.zscore(\n",
    "    df\n",
    ")  # zscore standardizes the data by subtracting the mean and dividing by the standard deviation\n",
    "\n",
    "# Now we want to add the cheese column to the dataframe\n",
    "df[\"cheese\"] = pd.DataFrame(\n",
    "    {\"cheese\": [(runs[i].got_cheese) for i in range(len(runs))]}\n",
    ")\n",
    "\n",
    "# Choose which keys to regress upon\n",
    "attributes = [\n",
    "    \"steps_between_cheese_5x5\",\n",
    "    \"euc_dist_cheese_5x5\",\n",
    "    \"steps_between_decision_square_5x5\",\n",
    "    \"euc_dist_decision_square_5x5\",\n",
    "    \"steps_between_cheese_top_right\",\n",
    "    \"euc_dist_cheese_top_right\",\n",
    "    \"steps_between_decision_square_top_right\",\n",
    "    \"euc_dist_decision_square_top_right\",\n",
    "    \"steps_between_cheese_decision_square\",\n",
    "    \"euc_dist_cheese_decision_square\",\n",
    "    \"cheese_coord_norm\",\n",
    "]\n",
    "\n",
    "n_runs = 50\n",
    "\n",
    "avg_accuracy = 0\n",
    "avg_coefficients = np.zeros(len(attributes) + 1)  # Add one for the intercept\n",
    "# We reduce variance in the score by running the regression multiple times\n",
    "for x in range(n_runs):\n",
    "    train, test = train_test_split(df, test_size=0.2)\n",
    "\n",
    "    clf = run_regression(attributes, train)\n",
    "    avg_coefficients[:-1] = (\n",
    "        clf.coef_[0] + avg_coefficients[:-1]\n",
    "    )  # Update all but last entry with coeffs\n",
    "    avg_coefficients[-1] += clf.intercept_[0]  # Last entry is the intercept\n",
    "\n",
    "    x = test[attributes]\n",
    "    y = np.ravel(test[[\"cheese\"]])\n",
    "    avg_accuracy += clf.score(x, y)\n",
    "\n",
    "avg_accuracy /= n_runs\n",
    "avg_coefficients /= n_runs\n",
    "# Print the coefficient for each attribute, printing the label next to each coefficient (for the last run)\n",
    "display_coeff_table(clf, attributes)\n",
    "# print(avg_coefficients / n_runs) # TODO show what avg coefficients are\n",
    "print(\n",
    "    f\"The average regression accuracy is {avg_accuracy:.3f}, averaged over\"\n",
    "    f\" {n_runs} regressions.\", file=file\n",
    ")\n",
    "\n",
    "# Record the sign of the coefficients for each attribute\n",
    "regression_coeff_signs = {\n",
    "    attr: clf.coef_[0][i] > 0\n",
    "    for i, attr in enumerate(attributes)\n",
    "    if attr in claimed_attributes\n",
    "}"
   ]
  },
  {
   "cell_type": "code",
   "execution_count": 45,
   "id": "fc8c909c",
   "metadata": {
    "ExecuteTime": {
     "end_time": "2023-09-26T23:19:38.587053418Z",
     "start_time": "2023-09-26T23:19:38.558903979Z"
    }
   },
   "outputs": [],
   "source": [
    "cheese_rate = sum(df[\"cheese\"]) / len(df[\"cheese\"])\n",
    "max_baseline = max(\n",
    "    cheese_rate, 1 - cheese_rate\n",
    ")  # Always predict \"cheese\" or \"no cheese\"\n",
    "print(\n",
    "    'Accuracy of the trivial \"always yes\" or \"always no\" predictor:'\n",
    "    f\" {max_baseline:.3f}\", file=file\n",
    ")"
   ]
  },
  {
   "attachments": {},
   "cell_type": "markdown",
   "id": "19678d56",
   "metadata": {},
   "source": [
    "Let's examine whether it's predictively useful to know the Euclidean\n",
    "distance between the cheese and the decision square, given that we\n",
    "already know the step distance. (Spoiler: It is!)"
   ]
  },
  {
   "cell_type": "code",
   "execution_count": 46,
   "id": "f22f899f",
   "metadata": {
    "ExecuteTime": {
     "end_time": "2023-09-26T23:19:44.330387087Z",
     "start_time": "2023-09-26T23:19:38.597309368Z"
    }
   },
   "outputs": [],
   "source": [
    "attr_lists = [\n",
    "    [\"steps_between_cheese_decision_square\"],\n",
    "    [\n",
    "        \"steps_between_cheese_decision_square\",\n",
    "        \"euc_dist_cheese_decision_square\",\n",
    "    ],\n",
    "    [\n",
    "        \"steps_between_cheese_decision_square\",\n",
    "        \"euc_dist_cheese_decision_square\",\n",
    "        \"euc_dist_cheese_top_right\",\n",
    "    ]\n",
    "]\n",
    "n_regressions = 100\n",
    "\n",
    "for attr_list in attr_lists:\n",
    "    print(\"\", file=file)\n",
    "    clf = run_regression(attr_list, df)\n",
    "    display_coeff_table(clf, attr_list)\n",
    "    print(\n",
    "        \"The accuracy for these attributes is\"\n",
    "        f\" {compute_avg_accuracy(attr_list, df, n_regressions):.3f}, averaged\"\n",
    "        f\" over {n_regressions} regressions.\", file=file\n",
    "    )\n",
    "    print(\"\", file=file)"
   ]
  },
  {
   "attachments": {},
   "cell_type": "markdown",
   "id": "33762c04",
   "metadata": {},
   "source": [
    "# Stress-testing our results\n",
    "Overall, the features we claimed to be important, still seem to be important, although to different strengths. The claimed attributes don't exhibit sign-flips in a range of conditions.\n",
    "\n",
    "## Trying to re-pinpoint the claimed features\n",
    "Peli Grietzer originally found the bolded attributes using the following methodology, which he describes as follows:\n",
    "\n",
    "> I did multiple logistic regression with all the factors at once, then did a multiple logistic regression with all-factors-except-x for each x and wrote down which factors caused test accuracy loss when dropped.\n",
    ">\n",
    "> Four factors caused non-trivial test accuracy loss, so I took those four factors and did a multiple logistic regression on these four factors, and saw that the test accuracy was as good as with all factors.\n",
    ">\n",
    "> I then tested dropping each of the four factors and using just three, and saw that there was a non-trivial drop in test accuracy for each of them.\n",
    ">\n",
    "> I then tested adding one additional factor to the four factors, trying every unused factor and seeing no increase in test accuracy.\n",
    "\n",
    "This section implements that methodology. This doesn't seem to replicate, which is some evidence against our initial results -- there's less of a reason to pick out the four attributes we did."
   ]
  },
  {
   "cell_type": "code",
   "execution_count": 47,
   "id": "d7fda0ed",
   "metadata": {
    "ExecuteTime": {
     "end_time": "2023-09-26T23:19:46.930002464Z",
     "start_time": "2023-09-26T23:19:44.321812554Z"
    }
   },
   "outputs": [],
   "source": [
    "# Do a multiple logistic regression with all-attributes-except-x for each x and store which attributes caused test accuracy loss when dropped.\n",
    "relative_drop = 0.005\n",
    "accuracy_drop_attrs = []\n",
    "num_runs = 5\n",
    "\n",
    "for attr in recorded_metrics.keys():\n",
    "    attr_accuracy = compute_avg_accuracy(\n",
    "        list(recorded_metrics.keys() - {attr}), df, num_runs\n",
    "    )\n",
    "    if attr_accuracy < avg_accuracy * (1 - relative_drop):\n",
    "        accuracy_drop_attrs.append(attr)\n",
    "\n",
    "print(\n",
    "    f\"When excluded, the following attributes caused a >{relative_drop*100}%\"\n",
    "    \" relative drop in accuracy:\", file=file\n",
    ")\n",
    "for attr in accuracy_drop_attrs:\n",
    "    print(f\"\\t{format_attr(attr)}\", file=file)"
   ]
  },
  {
   "cell_type": "code",
   "execution_count": 48,
   "id": "88a3d5ff",
   "metadata": {
    "ExecuteTime": {
     "end_time": "2023-09-26T23:19:47.689654083Z",
     "start_time": "2023-09-26T23:19:46.933326255Z"
    }
   },
   "outputs": [],
   "source": [
    "# Take these attributes and run a multiple logistic regression on these attributes, and check that the test accuracy was as good as with all attributes.\n",
    "if len(accuracy_drop_attrs) > 0:\n",
    "    new_accuracy = compute_avg_accuracy(accuracy_drop_attrs, df, num_runs=10)\n",
    "    print(\n",
    "        \"The accuracy of the regression with the dropped attributes is\"\n",
    "        f\" {new_accuracy:.3f}.\", file=file\n",
    "    )\n",
    "    if new_accuracy < avg_accuracy * (1 - relative_drop):\n",
    "        print(\n",
    "            \"Accuracy of regression with dropped attributes is not as good as\"\n",
    "            \" with all attributes.\", file=file\n",
    "        )\n",
    "\n",
    "    # Try dropping each of the attributes that caused a drop in accuracy and verify that the accuracy drops significantly\n",
    "    for attr in accuracy_drop_attrs:\n",
    "        attr_accuracy = compute_avg_accuracy(\n",
    "            list(recorded_metrics.keys() - {attr}), df, num_runs=1\n",
    "        )\n",
    "        if attr_accuracy > avg_accuracy * (1 - relative_drop):\n",
    "            print(\n",
    "                f\"The accuracy of the regression with ({format_attr(attr)})\"\n",
    "                \" dropped is not significantly lower than with all attributes\"\n",
    "                f\" ({avg_accuracy:.3f}).\", file=file\n",
    "            )\n",
    "    print(\"\", file=file)\n",
    "\n",
    "    # Try adding each of the attributes that did not cause a drop in accuracy and see if the accuracy increases significantly\n",
    "    for attr in list(recorded_metrics.keys() - set(accuracy_drop_attrs)):\n",
    "        attr_accuracy = compute_avg_accuracy(\n",
    "            list(recorded_metrics.keys() | {attr}), df, num_runs=1\n",
    "        )\n",
    "        if attr_accuracy > avg_accuracy * (1 - relative_drop):\n",
    "            print(\n",
    "                f\"The accuracy of the regression with ({format_attr(attr)})\"\n",
    "                \" added is not significantly higher than with all attributes.\", file=file\n",
    "            )"
   ]
  },
  {
   "cell_type": "code",
   "execution_count": 49,
   "id": "927b82c3",
   "metadata": {
    "ExecuteTime": {
     "end_time": "2023-09-26T23:19:47.937219084Z",
     "start_time": "2023-09-26T23:19:47.693978003Z"
    }
   },
   "outputs": [],
   "source": [
    "claimed_accuracy = compute_avg_accuracy(claimed_attributes, df, num_runs=10)\n",
    "clf = run_regression(claimed_attributes, df)\n",
    "display_coeff_table(clf, claimed_attributes)\n",
    "print(\n",
    "    f\"Claimed attributes obtain accuracy of {claimed_accuracy:.3f}, which is\"\n",
    "    f\" {(avg_accuracy - claimed_accuracy)*100:.3f} absolute percent less than\"\n",
    "    \" when all features are used.\", file=file\n",
    ")"
   ]
  },
  {
   "attachments": {},
   "cell_type": "markdown",
   "id": "116e6e4c",
   "metadata": {},
   "source": [
    "## Robustness to regressing on random subsets of attributes\n",
    "\n",
    "When regressing on related factors (e.g. Euclidean and step distance to cheese from decision square), we might wonder: \"Did these coefficients only come out this way as a fluke of the regression itself?\". For example, factor subset X may induce feature $a$ to have a positive coefficient, while a different factor subset Y induces $a$ with a negative regression coefficient. Encouragingly, the signs of our claimed attributes are highly robust to which set of factors we regress upon."
   ]
  },
  {
   "cell_type": "code",
   "execution_count": 50,
   "id": "224e12a0",
   "metadata": {
    "ExecuteTime": {
     "end_time": "2023-09-26T23:19:50.195424189Z",
     "start_time": "2023-09-26T23:19:47.945328316Z"
    }
   },
   "outputs": [],
   "source": [
    "def run_subset_regression(\n",
    "    data_frame: pd.DataFrame, n_attrs: int, verbose: bool = False\n",
    ") -> Tuple[Any, List[str]]:\n",
    "    \"\"\"Runs a regression on the data frame using a random subset of n_attrs attributes. Returns the clf and the attributes used.\"\"\"\n",
    "    attrs = random.sample(list(recorded_metrics.keys() - {\"cheese\"}), n_attrs)\n",
    "    clf = run_regression(attrs, train)\n",
    "\n",
    "    if verbose:\n",
    "        display_coeff_table(clf, attrs)\n",
    "\n",
    "    return clf, attrs\n",
    "\n",
    "\n",
    "def check_claimed_signs(\n",
    "    clf: Any, attrs: List[str], data_frame: pd.DataFrame, verbose: bool = False\n",
    ") -> Dict[str, int]:\n",
    "    \"\"\"Checks if the signs of the regression coefficients for the given attributes match regression_coeff_signs. Returns a dictionary which counts the number of times each attribute had the wrong sign.\"\"\"\n",
    "    counters = defaultdict(int)\n",
    "\n",
    "    for i, attr in enumerate(attrs):\n",
    "        if attr not in regression_coeff_signs.keys() or attr in counters:\n",
    "            continue\n",
    "        assert attr in data_frame, f\"Attribute {attr} not in data frame\"\n",
    "        if (clf.coef_[0][i] >= 0) != regression_coeff_signs[attr]:\n",
    "            if verbose:\n",
    "                print(\n",
    "                    f\"Attribute {attr} has incorrect sign; expected\"\n",
    "                    f\" {regression_coeff_signs[attr]} but got\"\n",
    "                    f\" {clf.coef_[0][i] >= 0}\"\n",
    "                )\n",
    "                display_coeff_table(clf, attrs)\n",
    "            counters[\n",
    "                attr\n",
    "            ] += 1  # Increment the attribute that had the incorrect sign\n",
    "    return counters\n",
    "\n",
    "\n",
    "# Run the regression multiple times and check the signs\n",
    "# See distribution of sign errors over multiple runs\n",
    "counter = {attr: 0 for attr in claimed_attributes}\n",
    "n_rand_runs = 200\n",
    "for x in range(n_rand_runs):\n",
    "    # Draw a random number of attributes to use\n",
    "    n_attrs = random.randint(1, len(recorded_metrics.keys()) - 1)\n",
    "    clf, attrs = run_subset_regression(train, n_attrs)\n",
    "    new_counter = check_claimed_signs(clf, attrs, train, verbose=False)\n",
    "    for key in new_counter.keys():\n",
    "        counter[key] += new_counter[key]"
   ]
  },
  {
   "cell_type": "code",
   "execution_count": 51,
   "id": "d96cd3ac",
   "metadata": {
    "ExecuteTime": {
     "end_time": "2023-09-26T23:19:50.208818741Z",
     "start_time": "2023-09-26T23:19:50.200515855Z"
    }
   },
   "outputs": [],
   "source": [
    "# Print a table displaying the percentage of times each attribute had the wrong sign\n",
    "sign_table = prettytable.PrettyTable()\n",
    "sign_table.field_names = [\"Attribute\", \"% of runs with flipped sign\"]\n",
    "for key in counter.keys():\n",
    "    sign_table.add_row([english_attr(key), counter[key] / n_rand_runs * 100])\n",
    "print(sign_table, file=file)"
   ]
  },
  {
   "attachments": {},
   "cell_type": "markdown",
   "id": "83f3df78",
   "metadata": {},
   "source": [
    "## Variation inflation factor (VIF)\n",
    "As I (Alex) understand it, VIF measures how much of the variance of the regression coefficients are due to multicollinearity. Restricting our attention to the features mentioned in the post, the VIF scores are medium-high (but tolerable), while including all features leads to extremely high VIF. This is some weak further evidence that our regression was not a statistical fluke or modeling decision (but I'm not a statistician!)."
   ]
  },
  {
   "cell_type": "code",
   "execution_count": 52,
   "id": "8ba3bf95",
   "metadata": {
    "ExecuteTime": {
     "end_time": "2023-09-26T23:19:50.367579859Z",
     "start_time": "2023-09-26T23:19:50.238522192Z"
    }
   },
   "outputs": [],
   "source": [
    "# Let's compute VIF (variance inflation factor) for each attribute\n",
    "# This is a measure of how much the variance of the coefficient is inflated due to multicollinearity\n",
    "# Above 5 is usually considered to be a sign of that\n",
    "from statsmodels.stats.outliers_influence import variance_inflation_factor\n",
    "\n",
    "# Ignore runtime warnings due to division by 0 from R2=1\n",
    "import warnings\n",
    "\n",
    "warnings.filterwarnings(\"ignore\")\n",
    "\n",
    "for attrs in [claimed_attributes, recorded_metrics.keys()]:\n",
    "    print(\"\", file=file)\n",
    "    print(\n",
    "        \"VIF for claimed attributes\"\n",
    "        if attrs == claimed_attributes\n",
    "        else \"VIF for all attributes\", file=file\n",
    "    )\n",
    "    vif = pd.DataFrame()\n",
    "    vif[\"Features\"] = df[attrs].columns\n",
    "    vif[\"VIF\"] = [\n",
    "        variance_inflation_factor(df[attrs].values, i)\n",
    "        for i in range(df[attrs].shape[1])\n",
    "    ]\n",
    "\n",
    "    print(vif, file=file)"
   ]
  }
 ],
 "metadata": {
  "kernelspec": {
   "display_name": "MATS",
   "language": "python",
   "name": "python3"
  },
  "language_info": {
   "codemirror_mode": {
    "name": "ipython",
    "version": 3
   },
   "file_extension": ".py",
   "mimetype": "text/x-python",
   "name": "python",
   "nbconvert_exporter": "python",
   "pygments_lexer": "ipython3",
   "version": "3.10.9"
  },
  "vscode": {
   "interpreter": {
    "hash": "4c77f2f46953a93e2cdf30c808e94602375d16ad6294e549473c1f301bc8b554"
   }
  }
 },
 "nbformat": 4,
 "nbformat_minor": 5
}

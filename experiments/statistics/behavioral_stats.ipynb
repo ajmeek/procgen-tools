{
 "cells": [
  {
   "attachments": {},
   "cell_type": "markdown",
   "id": "bb489560",
   "metadata": {},
   "source": [
    "This notebook is for taking statistics over thousands of runs, in order to analyze which maze features (e.g. distance to cheese) tend to affect decision-making. "
   ]
  },
  {
   "cell_type": "code",
   "execution_count": 1,
   "id": "af4881a7",
   "metadata": {},
   "outputs": [
    {
     "name": "stdout",
     "output_type": "stream",
     "text": [
      "Already downloaded https://nerdsniper.net/mats/episode_stats_data.tgz\n",
      "Already downloaded https://nerdsniper.net/mats/model_rand_region_5.pth\n"
     ]
    }
   ],
   "source": [
    "try:\n",
    "    import procgen_tools\n",
    "except ImportError:\n",
    "    get_ipython().run_line_magic(\n",
    "        magic_name=\"pip\",\n",
    "        line=\"install -U git+https://github.com/ulissemini/procgen-tools\",\n",
    "    )\n",
    "\n",
    "from procgen_tools.utils import setup\n",
    "\n",
    "setup(dl_stats=True)  # create directory structure and download data"
   ]
  },
  {
   "cell_type": "code",
   "execution_count": 2,
   "id": "c479b48f",
   "metadata": {},
   "outputs": [],
   "source": [
    "%matplotlib inline\n",
    "import matplotlib.pyplot as plt\n",
    "\n",
    "import numpy as np\n",
    "from procgen import ProcgenGym3Env\n",
    "from procgen_tools import maze\n",
    "from procgen_tools.models import load_policy\n",
    "from procgen_tools.metrics import metrics, decision_square \n",
    "from procgen_tools.data_utils import load_episode\n",
    "\n",
    "from IPython import display\n",
    "from glob import glob\n",
    "import pickle\n",
    "from tqdm import tqdm\n",
    "\n",
    "import os\n",
    "from collections import defaultdict\n",
    "\n",
    "import pandas as pd\n",
    "from sklearn import linear_model\n",
    "import statsmodels.api as sm\n",
    "from sklearn.linear_model import LogisticRegression\n",
    "from scipy import stats\n",
    "from sklearn.model_selection import train_test_split\n",
    "\n",
    "import random \n",
    "from typing import List, Tuple, Any, Dict, Union, Optional\n",
    "\n",
    "import prettytable "
   ]
  },
  {
   "cell_type": "code",
   "execution_count": 3,
   "id": "0ff6529e",
   "metadata": {},
   "outputs": [],
   "source": [
    "# Handle text formatting\n",
    "def bold_text(text: str):\n",
    "    return \"\\033[1m\" + text + \"\\033[0m\"\n",
    "\n",
    "\n",
    "# In the \"Understanding and controlling a maze-solving policy network\" post, we claimed that the following attributes are important. We'll often bold them in the text.\n",
    "claimed_attributes = [\n",
    "    \"steps_between_cheese_decision_square\",\n",
    "    \"euc_dist_cheese_decision_square\",\n",
    "    \"euc_dist_cheese_top_right\",\n",
    "    \"euc_dist_decision_square_5x5\",\n",
    "]\n",
    "\n",
    "\n",
    "def english_attr(attr: str) -> str:\n",
    "    \"\"\"Maps an attribute to its English name.\"\"\"\n",
    "    if attr == \"steps_between_cheese_5x5\":\n",
    "        return \"Steps between cheese and top-right 5x5\"\n",
    "    elif attr == \"euc_dist_cheese_5x5\":\n",
    "        return \"Euclidean distance between cheese and top-right 5x5\"\n",
    "    elif attr == \"steps_between_decision_square_5x5\":\n",
    "        return \"Steps between decision square and top-right 5x5\"\n",
    "    elif attr == \"euc_dist_decision_square_5x5\":\n",
    "        return \"Euclidean distance between decision square and top-right 5x5\"\n",
    "    elif attr == \"steps_between_cheese_top_right\":\n",
    "        return \"Steps between cheese and top right square\"\n",
    "    elif attr == \"euc_dist_cheese_top_right\":\n",
    "        return \"Euclidean distance between cheese and top right square\"\n",
    "    elif attr == \"steps_between_decision_square_top_right\":\n",
    "        return \"Steps between decision square and top right square\"\n",
    "    elif attr == \"euc_dist_decision_square_top_right\":\n",
    "        return (\n",
    "            \"Euclidean distance between decision square and top right square\"\n",
    "        )\n",
    "    elif attr == \"steps_between_cheese_decision_square\":\n",
    "        return \"Steps between cheese and decision square\"\n",
    "    elif attr == \"euc_dist_cheese_decision_square\":\n",
    "        return \"Euclidean distance between cheese and decision square\"\n",
    "    elif attr == \"cheese_coord_norm\":\n",
    "        return \"Norm of cheese coordinate\"\n",
    "    elif attr == \"taxi_dist_cheese_decision_square\":\n",
    "        return \"Taxicab distance between cheese and decision square\"\n",
    "    elif attr == \"taxi_dist_cheese_top_right\":\n",
    "        return \"Taxicab distance between cheese and top right square\"\n",
    "    elif attr == \"taxi_dist_decision_square_top_right\":\n",
    "        return \"Taxicab distance between decision square and top right square\"\n",
    "    elif attr == \"taxi_dist_cheese_5x5\":\n",
    "        return \"Taxicab distance between cheese and top-right 5x5\"\n",
    "    elif attr == \"taxi_dist_decision_square_5x5\":\n",
    "        return \"Taxicab distance between decision square and top-right 5x5\"\n",
    "    else:\n",
    "        raise ValueError(f\"Unknown attribute {attr}\")\n",
    "\n",
    "\n",
    "def format_attr(attr: str):\n",
    "    attr_str = english_attr(attr)\n",
    "    return bold_text(attr_str) if attr in claimed_attributes else attr_str"
   ]
  },
  {
   "cell_type": "code",
   "execution_count": 42,
   "id": "04235c2e",
   "metadata": {},
   "outputs": [
    {
     "name": "stdout",
     "output_type": "stream",
     "text": [
      "Loaded 1000 runs\n"
     ]
    }
   ],
   "source": [
    "model_name: str = \"model_rand_region_7\"\n",
    "files = glob(f\"experiments/statistics/data/{model_name}/*.pkl\")\n",
    "runs = []\n",
    "for f in files:\n",
    "    try:\n",
    "        runs.append(load_episode(f, load_venv=False))\n",
    "    except (AssertionError, KeyError) as e:\n",
    "        print(f\"Malformed file {f}: {e}\")\n",
    "        os.remove(f)\n",
    "\n",
    "print(f\"Loaded {len(runs)} runs\")"
   ]
  },
  {
   "attachments": {},
   "cell_type": "markdown",
   "id": "dc216e38",
   "metadata": {},
   "source": [
    "We only consider mazes which have decision squares, since these are the\n",
    "mazes where the policy confronts a nontrivial choice (between the cheese\n",
    "and the top-right corner). Furthermore, we check that the cheese\n",
    "isn't in the top-right 5x5 corner of the reachable maze. This ensures we\n",
    "aren't sampling from the training distribution."
   ]
  },
  {
   "cell_type": "code",
   "execution_count": 43,
   "id": "151864ae",
   "metadata": {},
   "outputs": [
    {
     "name": "stderr",
     "output_type": "stream",
     "text": [
      "100%|██████████| 1000/1000 [00:20<00:00, 48.53it/s]\n"
     ]
    }
   ],
   "source": [
    "recorded_metrics = defaultdict(list)\n",
    "recorded_runs = []\n",
    "got_cheese = []\n",
    "max_eps: int = 1000  # Only consider a subset of the episodes, for consistency\n",
    "\n",
    "for run in tqdm(runs[:max_eps]):\n",
    "    g = run.grid()\n",
    "    if decision_square(g) is None or (g[-5:, -5:] == maze.CHEESE).any():\n",
    "        continue\n",
    "    for name, metric in metrics.items():\n",
    "        recorded_metrics[name].append(metric(g))\n",
    "    got_cheese.append(float(run.got_cheese))\n",
    "    recorded_runs.append(run)\n",
    "\n",
    "runs = recorded_runs\n",
    "del recorded_runs\n",
    "got_cheese = np.array(got_cheese)\n",
    "\n",
    "print(f\"Considering {len(runs)} runs\")"
   ]
  },
  {
   "cell_type": "code",
   "execution_count": 44,
   "id": "e6cb7919",
   "metadata": {},
   "outputs": [],
   "source": [
    "# We want to turn the metrics into a dataframe, so we have to convert them to numpy arrays\n",
    "for name, metric in recorded_metrics.items():\n",
    "    recorded_metrics[name] = np.array(metric)"
   ]
  },
  {
   "cell_type": "code",
   "execution_count": 45,
   "id": "a207f4ea",
   "metadata": {},
   "outputs": [
    {
     "name": "stdout",
     "output_type": "stream",
     "text": [
      "P(get cheese | decision square, cheese not in top 5x5) = 0.848\n"
     ]
    }
   ],
   "source": [
    "prob = sum(got_cheese) / len(got_cheese)\n",
    "print(f\"P(get cheese | decision square, cheese not in top 5x5) = {prob:.3f}\")"
   ]
  },
  {
   "attachments": {},
   "cell_type": "markdown",
   "id": "f00443e8",
   "metadata": {},
   "source": [
    "We can explore the data itself."
   ]
  },
  {
   "cell_type": "code",
   "execution_count": 46,
   "id": "9338e2dd",
   "metadata": {},
   "outputs": [
    {
     "data": {
      "application/vnd.jupyter.widget-view+json": {
       "model_id": "43123d87658140cb8e8a63077030590a",
       "version_major": 2,
       "version_minor": 0
      },
      "text/plain": [
       "interactive(children=(Dropdown(description='metric', options=('euc_dist_cheese_decision_square', 'taxi_dist_ch…"
      ]
     },
     "metadata": {},
     "output_type": "display_data"
    }
   ],
   "source": [
    "# Make a plotly histogram, where you select which metric to display using a dropdown menu\n",
    "import plotly.express as px\n",
    "import plotly.graph_objects as go\n",
    "from ipywidgets import interact\n",
    "import math\n",
    "\n",
    "fig = go.FigureWidget()\n",
    "\n",
    "\n",
    "@interact\n",
    "def show_histogram(metric=list(recorded_metrics.keys())):\n",
    "    \"\"\"Show a histogram of the metric on this dataset.\"\"\"\n",
    "    fig.data = []\n",
    "\n",
    "    # Add a trace to fig\n",
    "    fig.add_trace(\n",
    "        go.Histogram(\n",
    "            x=recorded_metrics[metric], histnorm=\"probability density\"\n",
    "        )\n",
    "    )\n",
    "\n",
    "    # Set the title\n",
    "    fig.update_layout(title_text=f\"Histogram of {english_attr(metric)}\")\n",
    "    # Set y axis label to probability density\n",
    "    fig.update_yaxes(title_text=\"Probability density\")\n",
    "    fig.update_xaxes(title_text=english_attr(metric))\n",
    "\n",
    "    # Automatically display updates to fig without having to call fig.show()\n",
    "    display.display(fig)"
   ]
  },
  {
   "attachments": {},
   "cell_type": "markdown",
   "id": "560a4e90",
   "metadata": {},
   "source": [
    "And see how the data points relate to each other. Many exhibit natural correlations from the dataset."
   ]
  },
  {
   "cell_type": "code",
   "execution_count": 47,
   "id": "f18bc057",
   "metadata": {},
   "outputs": [
    {
     "data": {
      "application/vnd.jupyter.widget-view+json": {
       "model_id": "9cad8716a36249719c9bb8b26a8bd9d3",
       "version_major": 2,
       "version_minor": 0
      },
      "text/plain": [
       "interactive(children=(Dropdown(description='metric1', options=('euc_dist_cheese_decision_square', 'taxi_dist_c…"
      ]
     },
     "metadata": {},
     "output_type": "display_data"
    }
   ],
   "source": [
    "from ipywidgets import Dropdown, Checkbox\n",
    "\n",
    "scatter_distances_fig = go.FigureWidget()\n",
    "\n",
    "\n",
    "# Make plotly scatterplot comparing two metrics, to check for collinearity\n",
    "@interact\n",
    "def show_scatter(\n",
    "    metric1=Dropdown(\n",
    "        options=list(recorded_metrics.keys()),\n",
    "        value=\"euc_dist_cheese_decision_square\",\n",
    "    ),\n",
    "    metric2=Dropdown(\n",
    "        options=list(recorded_metrics.keys()),\n",
    "        value=\"steps_between_cheese_decision_square\",\n",
    "    ),\n",
    "):\n",
    "    \"\"\"Show a scatterplot of two metrics on this dataset.\"\"\"\n",
    "    data = pd.DataFrame(recorded_metrics)\n",
    "\n",
    "    # Plot the scatterplot\n",
    "    scatter_distances_fig.data = []\n",
    "    scatter_distances_fig.add_trace(\n",
    "        go.Scatter(\n",
    "            x=data[metric1], y=data[metric2], mode=\"markers\", name=\"runs\"\n",
    "        )\n",
    "    )\n",
    "    scatter_distances_fig.update_layout(\n",
    "        title_text=f\"{english_attr(metric1)} vs {english_attr(metric2)}\"\n",
    "    )\n",
    "    scatter_distances_fig.update_xaxes(title_text=english_attr(metric1))\n",
    "    scatter_distances_fig.update_yaxes(title_text=english_attr(metric2))\n",
    "    display.display(scatter_distances_fig)\n",
    "\n",
    "    # Draw a line of best fit\n",
    "    slope, intercept, r_value, p_value, std_err = stats.linregress(\n",
    "        data[metric1], data[metric2]\n",
    "    )\n",
    "    scatter_distances_fig.add_trace(\n",
    "        go.Scatter(\n",
    "            x=data[metric1],\n",
    "            y=slope * data[metric1] + intercept,\n",
    "            mode=\"lines\",\n",
    "            name=\"best fit\",\n",
    "        )\n",
    "    )\n",
    "\n",
    "    # Hide the legend\n",
    "    scatter_distances_fig.update_layout(showlegend=False)\n",
    "\n",
    "    # Print the correlation coefficient\n",
    "    print(f\"Correlation: {np.corrcoef(data[metric1], data[metric2])[0,1]:.3f}\")"
   ]
  },
  {
   "cell_type": "code",
   "execution_count": 48,
   "id": "68d758e4",
   "metadata": {},
   "outputs": [
    {
     "data": {
      "application/vnd.plotly.v1+json": {
       "config": {
        "plotlyServerURL": "https://plot.ly"
       },
       "data": [
        {
         "coloraxis": "coloraxis",
         "hovertemplate": "(%{x}, %{y}) = %{z:.3f} <extra></extra>",
         "name": "0",
         "type": "heatmap",
         "xaxis": "x",
         "yaxis": "y",
         "z": [
          [
           1,
           0.9818044473805622,
           0.8680087832280476,
           0.4759951280498692,
           0.24062796533585346,
           0.12262330286641579,
           0.12686947174210536,
           0.12854478053917867,
           0.08769667866755797,
           0.42648054846817207,
           0.09401827381111993,
           0.28533377536070725,
           0.17537528715575929,
           0.1308608289630417,
           0.13142962430752878,
           0.2603625740689816
          ],
          [
           0.981804447380562,
           0.9999999999999998,
           0.8681525492900241,
           0.4673042632253256,
           0.23813394318722814,
           0.11746640825927597,
           0.11760384687335161,
           0.11842979114321159,
           0.07736713288710147,
           0.4142493606030214,
           0.0826317495583464,
           0.2833543463964484,
           0.17327890801798895,
           0.1211288492927033,
           0.11964252763557762,
           0.2654745892683997
          ],
          [
           0.8680087832280476,
           0.8681525492900241,
           1,
           0.5352533910081169,
           0.20882029380437356,
           0.11328441506725181,
           0.1217579849556266,
           0.12763619749448035,
           0.08555366809583627,
           0.4782264896139696,
           0.08896825248311883,
           0.2446349036215236,
           0.15271667356450314,
           0.1191287053780591,
           0.12223715704803409,
           0.24327546548201004
          ],
          [
           0.4759951280498692,
           0.46730426322532564,
           0.5352533910081168,
           0.9999999999999998,
           0.7032516329300711,
           0.663104835595743,
           0.8327882097746702,
           0.8326638410173035,
           0.8873874288193901,
           0.920966783212808,
           0.8486902486261213,
           0.7096654397399867,
           0.6874567754127097,
           0.8284650075091303,
           0.8286033723204728,
           -0.2062306079657139
          ],
          [
           0.24062796533585346,
           0.23813394318722814,
           0.20882029380437356,
           0.7032516329300711,
           0.9999999999999999,
           0.9729226768164451,
           0.7830989501467783,
           0.768504254350994,
           0.7155297643725815,
           0.742652043395245,
           0.7213500592538818,
           0.9944233149579426,
           0.987055306737593,
           0.7916846412190754,
           0.7759546157216677,
           -0.5361724824263816
          ],
          [
           0.12262330286641579,
           0.11746640825927596,
           0.11328441506725183,
           0.663104835595743,
           0.9729226768164451,
           0.9999999999999998,
           0.7863221034423267,
           0.7804646732377388,
           0.7203182284127349,
           0.706548120155055,
           0.732307197230251,
           0.9459823078316726,
           0.9842362361131098,
           0.7905171487499058,
           0.7862563538092522,
           -0.658566778508918
          ],
          [
           0.1268694717421054,
           0.11760384687335161,
           0.1217579849556266,
           0.8327882097746702,
           0.7830989501467784,
           0.7863221034423267,
           0.9999999999999999,
           0.9950943165557631,
           0.9158389705594635,
           0.8215572599550078,
           0.9278483857564069,
           0.7699429649802499,
           0.7929219206885912,
           0.9953392151001734,
           0.9925352419826249,
           -0.4227470341787281
          ],
          [
           0.12854478053917867,
           0.11842979114321157,
           0.12763619749448035,
           0.8326638410173034,
           0.768504254350994,
           0.7804646732377388,
           0.9950943165557632,
           1,
           0.9124840032542783,
           0.8197237338379645,
           0.9242904809009901,
           0.7522284961668155,
           0.782622662600411,
           0.9846581043120914,
           0.9923330983771492,
           -0.4456857729437508
          ],
          [
           0.08769667866755797,
           0.07736713288710145,
           0.08555366809583627,
           0.88738742881939,
           0.7155297643725815,
           0.7203182284127349,
           0.9158389705594636,
           0.9124840032542784,
           0.9999999999999999,
           0.825290619088487,
           0.9524921179068823,
           0.7035477335976742,
           0.727520170226919,
           0.9121746870208648,
           0.9106413287809471,
           -0.37603124815874295
          ],
          [
           0.42648054846817207,
           0.4142493606030214,
           0.47822648961396963,
           0.920966783212808,
           0.7426520433952449,
           0.706548120155055,
           0.8215572599550078,
           0.8197237338379645,
           0.8252906190884869,
           1,
           0.8666924872821392,
           0.745762975712323,
           0.7234784176394953,
           0.8219892675273793,
           0.8243651909524,
           -0.27044944340136245
          ],
          [
           0.09401827381111993,
           0.0826317495583464,
           0.08896825248311883,
           0.8486902486261213,
           0.7213500592538818,
           0.732307197230251,
           0.9278483857564068,
           0.9242904809009901,
           0.9524921179068823,
           0.8666924872821392,
           1,
           0.7069994618717157,
           0.7359717772820072,
           0.9292816505753724,
           0.9311972052523974,
           -0.3924308598270594
          ],
          [
           0.28533377536070725,
           0.2833543463964484,
           0.24463490362152357,
           0.7096654397399867,
           0.9944233149579423,
           0.9459823078316725,
           0.76994296498025,
           0.7522284961668155,
           0.7035477335976742,
           0.745762975712323,
           0.7069994618717156,
           1,
           0.9750950034093927,
           0.7809394013266601,
           0.7613135275185062,
           -0.4794130226404204
          ],
          [
           0.1753752871557593,
           0.17327890801798893,
           0.1527166735645031,
           0.6874567754127097,
           0.9870553067375929,
           0.9842362361131097,
           0.7929219206885911,
           0.782622662600411,
           0.727520170226919,
           0.7234784176394953,
           0.7359717772820071,
           0.9750950034093927,
           1,
           0.8011769657051281,
           0.7924641787231408,
           -0.6007033594310844
          ],
          [
           0.1308608289630417,
           0.1211288492927033,
           0.11912870537805911,
           0.8284650075091303,
           0.7916846412190756,
           0.7905171487499059,
           0.9953392151001734,
           0.9846581043120916,
           0.9121746870208647,
           0.8219892675273792,
           0.9292816505753724,
           0.7809394013266601,
           0.8011769657051281,
           1,
           0.9923500660956509,
           -0.412692924860374
          ],
          [
           0.13142962430752878,
           0.1196425276355776,
           0.12223715704803409,
           0.8286033723204727,
           0.7759546157216676,
           0.7862563538092522,
           0.9925352419826249,
           0.9923330983771492,
           0.9106413287809471,
           0.8243651909524,
           0.9311972052523975,
           0.7613135275185062,
           0.7924641787231408,
           0.9923500660956509,
           0.9999999999999998,
           -0.44662329627973546
          ],
          [
           0.2603625740689816,
           0.2654745892683997,
           0.24327546548201004,
           -0.2062306079657139,
           -0.5361724824263815,
           -0.658566778508918,
           -0.4227470341787281,
           -0.4456857729437508,
           -0.376031248158743,
           -0.27044944340136245,
           -0.3924308598270594,
           -0.4794130226404204,
           -0.6007033594310844,
           -0.41269292486037396,
           -0.4466232962797354,
           1
          ]
         ]
        }
       ],
       "layout": {
        "coloraxis": {
         "cmax": 1,
         "cmin": -1,
         "colorbar": {
          "title": {
           "text": "Correlation"
          }
         },
         "colorscale": [
          [
           0,
           "rgb(103,0,31)"
          ],
          [
           0.1,
           "rgb(178,24,43)"
          ],
          [
           0.2,
           "rgb(214,96,77)"
          ],
          [
           0.3,
           "rgb(244,165,130)"
          ],
          [
           0.4,
           "rgb(253,219,199)"
          ],
          [
           0.5,
           "rgb(247,247,247)"
          ],
          [
           0.6,
           "rgb(209,229,240)"
          ],
          [
           0.7,
           "rgb(146,197,222)"
          ],
          [
           0.8,
           "rgb(67,147,195)"
          ],
          [
           0.9,
           "rgb(33,102,172)"
          ],
          [
           1,
           "rgb(5,48,97)"
          ]
         ],
         "showscale": false
        },
        "height": 1000,
        "margin": {
         "t": 60
        },
        "template": {
         "data": {
          "bar": [
           {
            "error_x": {
             "color": "#2a3f5f"
            },
            "error_y": {
             "color": "#2a3f5f"
            },
            "marker": {
             "line": {
              "color": "#E5ECF6",
              "width": 0.5
             },
             "pattern": {
              "fillmode": "overlay",
              "size": 10,
              "solidity": 0.2
             }
            },
            "type": "bar"
           }
          ],
          "barpolar": [
           {
            "marker": {
             "line": {
              "color": "#E5ECF6",
              "width": 0.5
             },
             "pattern": {
              "fillmode": "overlay",
              "size": 10,
              "solidity": 0.2
             }
            },
            "type": "barpolar"
           }
          ],
          "carpet": [
           {
            "aaxis": {
             "endlinecolor": "#2a3f5f",
             "gridcolor": "white",
             "linecolor": "white",
             "minorgridcolor": "white",
             "startlinecolor": "#2a3f5f"
            },
            "baxis": {
             "endlinecolor": "#2a3f5f",
             "gridcolor": "white",
             "linecolor": "white",
             "minorgridcolor": "white",
             "startlinecolor": "#2a3f5f"
            },
            "type": "carpet"
           }
          ],
          "choropleth": [
           {
            "colorbar": {
             "outlinewidth": 0,
             "ticks": ""
            },
            "type": "choropleth"
           }
          ],
          "contour": [
           {
            "colorbar": {
             "outlinewidth": 0,
             "ticks": ""
            },
            "colorscale": [
             [
              0,
              "#0d0887"
             ],
             [
              0.1111111111111111,
              "#46039f"
             ],
             [
              0.2222222222222222,
              "#7201a8"
             ],
             [
              0.3333333333333333,
              "#9c179e"
             ],
             [
              0.4444444444444444,
              "#bd3786"
             ],
             [
              0.5555555555555556,
              "#d8576b"
             ],
             [
              0.6666666666666666,
              "#ed7953"
             ],
             [
              0.7777777777777778,
              "#fb9f3a"
             ],
             [
              0.8888888888888888,
              "#fdca26"
             ],
             [
              1,
              "#f0f921"
             ]
            ],
            "type": "contour"
           }
          ],
          "contourcarpet": [
           {
            "colorbar": {
             "outlinewidth": 0,
             "ticks": ""
            },
            "type": "contourcarpet"
           }
          ],
          "heatmap": [
           {
            "colorbar": {
             "outlinewidth": 0,
             "ticks": ""
            },
            "colorscale": [
             [
              0,
              "#0d0887"
             ],
             [
              0.1111111111111111,
              "#46039f"
             ],
             [
              0.2222222222222222,
              "#7201a8"
             ],
             [
              0.3333333333333333,
              "#9c179e"
             ],
             [
              0.4444444444444444,
              "#bd3786"
             ],
             [
              0.5555555555555556,
              "#d8576b"
             ],
             [
              0.6666666666666666,
              "#ed7953"
             ],
             [
              0.7777777777777778,
              "#fb9f3a"
             ],
             [
              0.8888888888888888,
              "#fdca26"
             ],
             [
              1,
              "#f0f921"
             ]
            ],
            "type": "heatmap"
           }
          ],
          "heatmapgl": [
           {
            "colorbar": {
             "outlinewidth": 0,
             "ticks": ""
            },
            "colorscale": [
             [
              0,
              "#0d0887"
             ],
             [
              0.1111111111111111,
              "#46039f"
             ],
             [
              0.2222222222222222,
              "#7201a8"
             ],
             [
              0.3333333333333333,
              "#9c179e"
             ],
             [
              0.4444444444444444,
              "#bd3786"
             ],
             [
              0.5555555555555556,
              "#d8576b"
             ],
             [
              0.6666666666666666,
              "#ed7953"
             ],
             [
              0.7777777777777778,
              "#fb9f3a"
             ],
             [
              0.8888888888888888,
              "#fdca26"
             ],
             [
              1,
              "#f0f921"
             ]
            ],
            "type": "heatmapgl"
           }
          ],
          "histogram": [
           {
            "marker": {
             "pattern": {
              "fillmode": "overlay",
              "size": 10,
              "solidity": 0.2
             }
            },
            "type": "histogram"
           }
          ],
          "histogram2d": [
           {
            "colorbar": {
             "outlinewidth": 0,
             "ticks": ""
            },
            "colorscale": [
             [
              0,
              "#0d0887"
             ],
             [
              0.1111111111111111,
              "#46039f"
             ],
             [
              0.2222222222222222,
              "#7201a8"
             ],
             [
              0.3333333333333333,
              "#9c179e"
             ],
             [
              0.4444444444444444,
              "#bd3786"
             ],
             [
              0.5555555555555556,
              "#d8576b"
             ],
             [
              0.6666666666666666,
              "#ed7953"
             ],
             [
              0.7777777777777778,
              "#fb9f3a"
             ],
             [
              0.8888888888888888,
              "#fdca26"
             ],
             [
              1,
              "#f0f921"
             ]
            ],
            "type": "histogram2d"
           }
          ],
          "histogram2dcontour": [
           {
            "colorbar": {
             "outlinewidth": 0,
             "ticks": ""
            },
            "colorscale": [
             [
              0,
              "#0d0887"
             ],
             [
              0.1111111111111111,
              "#46039f"
             ],
             [
              0.2222222222222222,
              "#7201a8"
             ],
             [
              0.3333333333333333,
              "#9c179e"
             ],
             [
              0.4444444444444444,
              "#bd3786"
             ],
             [
              0.5555555555555556,
              "#d8576b"
             ],
             [
              0.6666666666666666,
              "#ed7953"
             ],
             [
              0.7777777777777778,
              "#fb9f3a"
             ],
             [
              0.8888888888888888,
              "#fdca26"
             ],
             [
              1,
              "#f0f921"
             ]
            ],
            "type": "histogram2dcontour"
           }
          ],
          "mesh3d": [
           {
            "colorbar": {
             "outlinewidth": 0,
             "ticks": ""
            },
            "type": "mesh3d"
           }
          ],
          "parcoords": [
           {
            "line": {
             "colorbar": {
              "outlinewidth": 0,
              "ticks": ""
             }
            },
            "type": "parcoords"
           }
          ],
          "pie": [
           {
            "automargin": true,
            "type": "pie"
           }
          ],
          "scatter": [
           {
            "fillpattern": {
             "fillmode": "overlay",
             "size": 10,
             "solidity": 0.2
            },
            "type": "scatter"
           }
          ],
          "scatter3d": [
           {
            "line": {
             "colorbar": {
              "outlinewidth": 0,
              "ticks": ""
             }
            },
            "marker": {
             "colorbar": {
              "outlinewidth": 0,
              "ticks": ""
             }
            },
            "type": "scatter3d"
           }
          ],
          "scattercarpet": [
           {
            "marker": {
             "colorbar": {
              "outlinewidth": 0,
              "ticks": ""
             }
            },
            "type": "scattercarpet"
           }
          ],
          "scattergeo": [
           {
            "marker": {
             "colorbar": {
              "outlinewidth": 0,
              "ticks": ""
             }
            },
            "type": "scattergeo"
           }
          ],
          "scattergl": [
           {
            "marker": {
             "colorbar": {
              "outlinewidth": 0,
              "ticks": ""
             }
            },
            "type": "scattergl"
           }
          ],
          "scattermapbox": [
           {
            "marker": {
             "colorbar": {
              "outlinewidth": 0,
              "ticks": ""
             }
            },
            "type": "scattermapbox"
           }
          ],
          "scatterpolar": [
           {
            "marker": {
             "colorbar": {
              "outlinewidth": 0,
              "ticks": ""
             }
            },
            "type": "scatterpolar"
           }
          ],
          "scatterpolargl": [
           {
            "marker": {
             "colorbar": {
              "outlinewidth": 0,
              "ticks": ""
             }
            },
            "type": "scatterpolargl"
           }
          ],
          "scatterternary": [
           {
            "marker": {
             "colorbar": {
              "outlinewidth": 0,
              "ticks": ""
             }
            },
            "type": "scatterternary"
           }
          ],
          "surface": [
           {
            "colorbar": {
             "outlinewidth": 0,
             "ticks": ""
            },
            "colorscale": [
             [
              0,
              "#0d0887"
             ],
             [
              0.1111111111111111,
              "#46039f"
             ],
             [
              0.2222222222222222,
              "#7201a8"
             ],
             [
              0.3333333333333333,
              "#9c179e"
             ],
             [
              0.4444444444444444,
              "#bd3786"
             ],
             [
              0.5555555555555556,
              "#d8576b"
             ],
             [
              0.6666666666666666,
              "#ed7953"
             ],
             [
              0.7777777777777778,
              "#fb9f3a"
             ],
             [
              0.8888888888888888,
              "#fdca26"
             ],
             [
              1,
              "#f0f921"
             ]
            ],
            "type": "surface"
           }
          ],
          "table": [
           {
            "cells": {
             "fill": {
              "color": "#EBF0F8"
             },
             "line": {
              "color": "white"
             }
            },
            "header": {
             "fill": {
              "color": "#C8D4E3"
             },
             "line": {
              "color": "white"
             }
            },
            "type": "table"
           }
          ]
         },
         "layout": {
          "annotationdefaults": {
           "arrowcolor": "#2a3f5f",
           "arrowhead": 0,
           "arrowwidth": 1
          },
          "autotypenumbers": "strict",
          "coloraxis": {
           "colorbar": {
            "outlinewidth": 0,
            "ticks": ""
           }
          },
          "colorscale": {
           "diverging": [
            [
             0,
             "#8e0152"
            ],
            [
             0.1,
             "#c51b7d"
            ],
            [
             0.2,
             "#de77ae"
            ],
            [
             0.3,
             "#f1b6da"
            ],
            [
             0.4,
             "#fde0ef"
            ],
            [
             0.5,
             "#f7f7f7"
            ],
            [
             0.6,
             "#e6f5d0"
            ],
            [
             0.7,
             "#b8e186"
            ],
            [
             0.8,
             "#7fbc41"
            ],
            [
             0.9,
             "#4d9221"
            ],
            [
             1,
             "#276419"
            ]
           ],
           "sequential": [
            [
             0,
             "#0d0887"
            ],
            [
             0.1111111111111111,
             "#46039f"
            ],
            [
             0.2222222222222222,
             "#7201a8"
            ],
            [
             0.3333333333333333,
             "#9c179e"
            ],
            [
             0.4444444444444444,
             "#bd3786"
            ],
            [
             0.5555555555555556,
             "#d8576b"
            ],
            [
             0.6666666666666666,
             "#ed7953"
            ],
            [
             0.7777777777777778,
             "#fb9f3a"
            ],
            [
             0.8888888888888888,
             "#fdca26"
            ],
            [
             1,
             "#f0f921"
            ]
           ],
           "sequentialminus": [
            [
             0,
             "#0d0887"
            ],
            [
             0.1111111111111111,
             "#46039f"
            ],
            [
             0.2222222222222222,
             "#7201a8"
            ],
            [
             0.3333333333333333,
             "#9c179e"
            ],
            [
             0.4444444444444444,
             "#bd3786"
            ],
            [
             0.5555555555555556,
             "#d8576b"
            ],
            [
             0.6666666666666666,
             "#ed7953"
            ],
            [
             0.7777777777777778,
             "#fb9f3a"
            ],
            [
             0.8888888888888888,
             "#fdca26"
            ],
            [
             1,
             "#f0f921"
            ]
           ]
          },
          "colorway": [
           "#636efa",
           "#EF553B",
           "#00cc96",
           "#ab63fa",
           "#FFA15A",
           "#19d3f3",
           "#FF6692",
           "#B6E880",
           "#FF97FF",
           "#FECB52"
          ],
          "font": {
           "color": "#2a3f5f"
          },
          "geo": {
           "bgcolor": "white",
           "lakecolor": "white",
           "landcolor": "#E5ECF6",
           "showlakes": true,
           "showland": true,
           "subunitcolor": "white"
          },
          "hoverlabel": {
           "align": "left"
          },
          "hovermode": "closest",
          "mapbox": {
           "style": "light"
          },
          "paper_bgcolor": "white",
          "plot_bgcolor": "#E5ECF6",
          "polar": {
           "angularaxis": {
            "gridcolor": "white",
            "linecolor": "white",
            "ticks": ""
           },
           "bgcolor": "#E5ECF6",
           "radialaxis": {
            "gridcolor": "white",
            "linecolor": "white",
            "ticks": ""
           }
          },
          "scene": {
           "xaxis": {
            "backgroundcolor": "#E5ECF6",
            "gridcolor": "white",
            "gridwidth": 2,
            "linecolor": "white",
            "showbackground": true,
            "ticks": "",
            "zerolinecolor": "white"
           },
           "yaxis": {
            "backgroundcolor": "#E5ECF6",
            "gridcolor": "white",
            "gridwidth": 2,
            "linecolor": "white",
            "showbackground": true,
            "ticks": "",
            "zerolinecolor": "white"
           },
           "zaxis": {
            "backgroundcolor": "#E5ECF6",
            "gridcolor": "white",
            "gridwidth": 2,
            "linecolor": "white",
            "showbackground": true,
            "ticks": "",
            "zerolinecolor": "white"
           }
          },
          "shapedefaults": {
           "line": {
            "color": "#2a3f5f"
           }
          },
          "ternary": {
           "aaxis": {
            "gridcolor": "white",
            "linecolor": "white",
            "ticks": ""
           },
           "baxis": {
            "gridcolor": "white",
            "linecolor": "white",
            "ticks": ""
           },
           "bgcolor": "#E5ECF6",
           "caxis": {
            "gridcolor": "white",
            "linecolor": "white",
            "ticks": ""
           }
          },
          "title": {
           "x": 0.05
          },
          "xaxis": {
           "automargin": true,
           "gridcolor": "white",
           "linecolor": "white",
           "ticks": "",
           "title": {
            "standoff": 15
           },
           "zerolinecolor": "white",
           "zerolinewidth": 2
          },
          "yaxis": {
           "automargin": true,
           "gridcolor": "white",
           "linecolor": "white",
           "ticks": "",
           "title": {
            "standoff": 15
           },
           "zerolinecolor": "white",
           "zerolinewidth": 2
          }
         }
        },
        "title": {
         "text": "Correlation matrix between metrics"
        },
        "width": 1000,
        "xaxis": {
         "anchor": "y",
         "constrain": "domain",
         "domain": [
          0,
          1
         ],
         "scaleanchor": "y",
         "ticktext": [
          "Euclidean distance between cheese and decision square",
          "Taxicab distance between cheese and decision square",
          "Steps between cheese and decision square",
          "Steps between cheese and top right square",
          "Euclidean distance between cheese and top right square",
          "Taxicab distance between cheese and top right square",
          "Euclidean distance between decision square and top right square",
          "Taxicab distance between decision square and top right square",
          "Steps between decision square and top right square",
          "Steps between cheese and top-right 5x5",
          "Steps between decision square and top-right 5x5",
          "Euclidean distance between cheese and top-right 5x5",
          "Taxicab distance between cheese and top-right 5x5",
          "Euclidean distance between decision square and top-right 5x5",
          "Taxicab distance between decision square and top-right 5x5",
          "Norm of cheese coordinate"
         ],
         "tickvals": [
          0,
          1,
          2,
          3,
          4,
          5,
          6,
          7,
          8,
          9,
          10,
          11,
          12,
          13,
          14,
          15
         ],
         "title": {
          "text": ""
         }
        },
        "yaxis": {
         "anchor": "x",
         "autorange": "reversed",
         "constrain": "domain",
         "domain": [
          0,
          1
         ],
         "ticktext": [
          "Euclidean distance between cheese and decision square",
          "Taxicab distance between cheese and decision square",
          "Steps between cheese and decision square",
          "Steps between cheese and top right square",
          "Euclidean distance between cheese and top right square",
          "Taxicab distance between cheese and top right square",
          "Euclidean distance between decision square and top right square",
          "Taxicab distance between decision square and top right square",
          "Steps between decision square and top right square",
          "Steps between cheese and top-right 5x5",
          "Steps between decision square and top-right 5x5",
          "Euclidean distance between cheese and top-right 5x5",
          "Taxicab distance between cheese and top-right 5x5",
          "Euclidean distance between decision square and top-right 5x5",
          "Taxicab distance between decision square and top-right 5x5",
          "Norm of cheese coordinate"
         ],
         "tickvals": [
          0,
          1,
          2,
          3,
          4,
          5,
          6,
          7,
          8,
          9,
          10,
          11,
          12,
          13,
          14,
          15
         ],
         "title": {
          "text": ""
         }
        }
       }
      }
     },
     "metadata": {},
     "output_type": "display_data"
    }
   ],
   "source": [
    "# Show the correlation matrix in plotly\n",
    "final_metrics = [\"euc_dist_cheese_decision_square\"]\n",
    "\n",
    "correlations = np.zeros((len(recorded_metrics), len(recorded_metrics)))\n",
    "for i, metric1 in enumerate(recorded_metrics.keys()):\n",
    "    for j, metric2 in enumerate(recorded_metrics.keys()):\n",
    "        correlations[i, j] = np.corrcoef(\n",
    "            recorded_metrics[metric1], recorded_metrics[metric2]\n",
    "        )[0, 1]\n",
    "\n",
    "# Show the correlation matrix in plotly, with a colorbar\n",
    "# On mouse over, show the name of each metric\n",
    "corrmap = px.imshow(\n",
    "    correlations,\n",
    "    labels=dict(x=\"Metric 1\", y=\"Metric 2\", color=\"Correlation\"),\n",
    "    color_continuous_scale=\"RdBu\",\n",
    "    zmin=-1,\n",
    "    zmax=1,\n",
    ")\n",
    "# Hover template: show the name of each metric, by looking up its value in the x and y lists\n",
    "corrmap.update_traces(hovertemplate=\"(%{x}, %{y}) = %{z:.3f} <extra></extra>\")\n",
    "\n",
    "corrmap.update_layout(title_text=\"Correlation matrix between metrics\")\n",
    "# Don't show numbers over each cell\n",
    "corrmap.update_traces(text=None)\n",
    "# Show x and y axis labels\n",
    "corrmap.update_xaxes(\n",
    "    ticktext=list(map(english_attr, recorded_metrics.keys())),\n",
    "    tickvals=list(range(len(recorded_metrics.keys()))),\n",
    ")\n",
    "\n",
    "corrmap.update_yaxes(\n",
    "    ticktext=list(map(english_attr, recorded_metrics.keys())),\n",
    "    tickvals=list(range(len(recorded_metrics.keys()))),\n",
    ")\n",
    "\n",
    "# Hide x and y axis titles\n",
    "corrmap.update_xaxes(title_text=\"\")\n",
    "corrmap.update_yaxes(title_text=\"\")\n",
    "\n",
    "# Hide the color bar\n",
    "corrmap.update_layout(coloraxis_showscale=False)\n",
    "\n",
    "# Make size of plot a bit bigger\n",
    "corrmap.update_layout(width=1000, height=1000)\n",
    "corrmap.show()"
   ]
  },
  {
   "attachments": {},
   "cell_type": "markdown",
   "id": "41d1c538",
   "metadata": {},
   "source": [
    "And here are the strongest correlations:"
   ]
  },
  {
   "cell_type": "code",
   "execution_count": 49,
   "id": "8514cf7b",
   "metadata": {},
   "outputs": [
    {
     "name": "stdout",
     "output_type": "stream",
     "text": [
      "+-----------------------------------------------------------------+-------------+---------------------------------------------------------------+\n",
      "|                             \u001b[1mMetric 1\u001b[0m                            | \u001b[1mCorrelation\u001b[0m |                            \u001b[1mMetric 2\u001b[0m                           |\n",
      "+-----------------------------------------------------------------+-------------+---------------------------------------------------------------+\n",
      "| Euclidean distance between decision square and top right square |    0.995    |  \u001b[1mEuclidean distance between decision square and top-right 5x5\u001b[0m |\n",
      "| Euclidean distance between decision square and top right square |    0.995    | Taxicab distance between decision square and top right square |\n",
      "|      \u001b[1mEuclidean distance between cheese and top right square\u001b[0m     |    0.994    |      Euclidean distance between cheese and top-right 5x5      |\n",
      "| Euclidean distance between decision square and top right square |    0.993    |   Taxicab distance between decision square and top-right 5x5  |\n",
      "|   \u001b[1mEuclidean distance between decision square and top-right 5x5\u001b[0m  |    0.992    |   Taxicab distance between decision square and top-right 5x5  |\n",
      "|  Taxicab distance between decision square and top right square  |    0.992    |   Taxicab distance between decision square and top-right 5x5  |\n",
      "|      \u001b[1mEuclidean distance between cheese and top right square\u001b[0m     |    0.987    |       Taxicab distance between cheese and top-right 5x5       |\n",
      "|  Taxicab distance between decision square and top right square  |    0.985    |  \u001b[1mEuclidean distance between decision square and top-right 5x5\u001b[0m |\n",
      "|       Taxicab distance between cheese and top right square      |    0.984    |       Taxicab distance between cheese and top-right 5x5       |\n",
      "|      \u001b[1mEuclidean distance between cheese and decision square\u001b[0m      |    0.982    |      Taxicab distance between cheese and decision square      |\n",
      "|       Euclidean distance between cheese and top-right 5x5       |    0.975    |       Taxicab distance between cheese and top-right 5x5       |\n",
      "|      \u001b[1mEuclidean distance between cheese and top right square\u001b[0m     |    0.973    |      Taxicab distance between cheese and top right square     |\n",
      "|        Steps between decision square and top right square       |    0.952    |        Steps between decision square and top-right 5x5        |\n",
      "|       Taxicab distance between cheese and top right square      |    0.946    |      Euclidean distance between cheese and top-right 5x5      |\n",
      "|         Steps between decision square and top-right 5x5         |    0.931    |   Taxicab distance between decision square and top-right 5x5  |\n",
      "|         Steps between decision square and top-right 5x5         |    0.929    |  \u001b[1mEuclidean distance between decision square and top-right 5x5\u001b[0m |\n",
      "| Euclidean distance between decision square and top right square |    0.928    |        Steps between decision square and top-right 5x5        |\n",
      "|  Taxicab distance between decision square and top right square  |    0.924    |        Steps between decision square and top-right 5x5        |\n",
      "|            Steps between cheese and top right square            |    0.921    |             Steps between cheese and top-right 5x5            |\n",
      "| Euclidean distance between decision square and top right square |    0.916    |       Steps between decision square and top right square      |\n",
      "|  Taxicab distance between decision square and top right square  |    0.912    |       Steps between decision square and top right square      |\n",
      "|        Steps between decision square and top right square       |    0.912    |  \u001b[1mEuclidean distance between decision square and top-right 5x5\u001b[0m |\n",
      "|        Steps between decision square and top right square       |    0.911    |   Taxicab distance between decision square and top-right 5x5  |\n",
      "|            Steps between cheese and top right square            |    0.887    |       Steps between decision square and top right square      |\n",
      "|       Taxicab distance between cheese and decision square       |    0.868    |            \u001b[1mSteps between cheese and decision square\u001b[0m           |\n",
      "+-----------------------------------------------------------------+-------------+---------------------------------------------------------------+\n"
     ]
    }
   ],
   "source": [
    "# Get the top k absolute value correlations, ignoring diagonals\n",
    "k = 50\n",
    "len_diagonal = len(correlations)\n",
    "topk = np.argsort(np.abs(correlations).flatten())[-(k + len_diagonal) :][\n",
    "    ::-1\n",
    "]  # Diagonal will be 1, so just add in len_diagonal\n",
    "\n",
    "# Print the top k correlations in a pretty table\n",
    "table = prettytable.PrettyTable()\n",
    "table.field_names = map(bold_text, [\"Metric 1\", \"Correlation\", \"Metric 2\"])\n",
    "\n",
    "for i in topk:\n",
    "    # Get the row and column of the correlation\n",
    "    row, col = i // len(correlations), i % len(correlations)\n",
    "    # Ignore the diagonal and the lower triangle\n",
    "    if row >= col:\n",
    "        continue\n",
    "    # Get the metric names\n",
    "    metric1, metric2 = (\n",
    "        list(recorded_metrics.keys())[row],\n",
    "        list(recorded_metrics.keys())[col],\n",
    "    )\n",
    "    # Add the row to the table\n",
    "    table.add_row(\n",
    "        [\n",
    "            format_attr(metric1),\n",
    "            f\"{correlations[row, col]:.3f}\",\n",
    "            format_attr(metric2),\n",
    "        ]\n",
    "    )\n",
    "\n",
    "print(table)"
   ]
  },
  {
   "cell_type": "code",
   "execution_count": 50,
   "id": "e51004a0",
   "metadata": {},
   "outputs": [],
   "source": [
    "def run_regression(attrs: List[str], data_frame: pd.DataFrame):\n",
    "    \"\"\"Runs a LASSO-regularized regression on the data using the given attributes. Returns the clf.\"\"\"\n",
    "    assert len(attrs) > 0, \"Must have at least one attribute to regress upon\"\n",
    "    for attr in attrs:\n",
    "        assert attr in data_frame, f\"Attribute {attr} not in data frame\"\n",
    "    assert \"cheese\" in data_frame, \"Attribute 'cheese' not in data frame\"\n",
    "\n",
    "    x = data_frame[attrs]\n",
    "    y = np.ravel(data_frame[[\"cheese\"]])\n",
    "\n",
    "    clf = LogisticRegression(\n",
    "        random_state=0, solver=\"liblinear\", penalty=\"l1\"\n",
    "    ).fit(x, y)\n",
    "    return clf\n",
    "\n",
    "\n",
    "def compute_avg_accuracy(\n",
    "    attrs: List[str], data_frame: pd.DataFrame, num_runs: int\n",
    ") -> float:\n",
    "    \"\"\"Runs a LASSO-regularized regression num_runs times on the data using the given attributes. Returns the average accuracy.\"\"\"\n",
    "    assert len(attrs) > 0, \"Must have at least one attribute to regress upon\"\n",
    "    assert num_runs > 0, \"Must run at least one time\"\n",
    "\n",
    "    accuracies = []\n",
    "    for i in range(num_runs):\n",
    "        train, test = train_test_split(data_frame, test_size=0.2)\n",
    "        clf = run_regression(attrs, train)\n",
    "        accuracies.append(clf.score(test[attrs], test[\"cheese\"]))\n",
    "    return np.mean(accuracies)\n",
    "\n",
    "\n",
    "def display_coeff_table(clf: Any, attrs: List[str]):\n",
    "    \"\"\"Displays the coefficients for each attribute, printing the label next to each coefficient.\"\"\"\n",
    "    assert len(attrs) > 0, \"Must have at least one attribute\"\n",
    "\n",
    "    # Print the coefficient for each attribute, printing the label next to each coefficient\n",
    "    table = prettytable.PrettyTable()\n",
    "    table.field_names = [bold_text(\"Attribute\"), bold_text(\"Coefficient\")]\n",
    "    for i, attr in enumerate(attrs):\n",
    "        table.add_row([format_attr(attr), f\"{clf.coef_[0][i]:.3f}\"])\n",
    "\n",
    "    # Add a row for the intercept\n",
    "    table.add_row([\"Intercept\", f\"{clf.intercept_[0]:.3f}\"])\n",
    "    print(table)"
   ]
  },
  {
   "attachments": {},
   "cell_type": "markdown",
   "id": "d5bf611e",
   "metadata": {},
   "source": [
    "# Using maze features to predict whether the mouse got the cheese "
   ]
  },
  {
   "cell_type": "code",
   "execution_count": 51,
   "id": "1f3f5156",
   "metadata": {},
   "outputs": [
    {
     "name": "stdout",
     "output_type": "stream",
     "text": [
      "+-----------------------------------------------------------------+-------------+\n",
      "|                            \u001b[1mAttribute\u001b[0m                            | \u001b[1mCoefficient\u001b[0m |\n",
      "+-----------------------------------------------------------------+-------------+\n",
      "|              Steps between cheese and top-right 5x5             |    -0.253   |\n",
      "|       Euclidean distance between cheese and top-right 5x5       |    0.000    |\n",
      "|         Steps between decision square and top-right 5x5         |    1.133    |\n",
      "|   \u001b[1mEuclidean distance between decision square and top-right 5x5\u001b[0m  |    0.000    |\n",
      "|            Steps between cheese and top right square            |    -0.062   |\n",
      "|      \u001b[1mEuclidean distance between cheese and top right square\u001b[0m     |    -2.383   |\n",
      "|        Steps between decision square and top right square       |    0.000    |\n",
      "| Euclidean distance between decision square and top right square |    0.000    |\n",
      "|             \u001b[1mSteps between cheese and decision square\u001b[0m            |    -1.134   |\n",
      "|      \u001b[1mEuclidean distance between cheese and decision square\u001b[0m      |    0.000    |\n",
      "|                    Norm of cheese coordinate                    |    -0.106   |\n",
      "|                            Intercept                            |    3.307    |\n",
      "+-----------------------------------------------------------------+-------------+\n",
      "The average regression accuracy is 0.904, averaged over 50 regressions.\n"
     ]
    }
   ],
   "source": [
    "keys = list(recorded_metrics.keys())\n",
    "data = {key: recorded_metrics[key] for key in keys}\n",
    "df = pd.DataFrame(data)\n",
    "\n",
    "df = stats.zscore(\n",
    "    df\n",
    ")  # zscore standardizes the data by subtracting the mean and dividing by the standard deviation\n",
    "\n",
    "# Now we want to add the cheese column to the dataframe\n",
    "df[\"cheese\"] = pd.DataFrame(\n",
    "    {\"cheese\": [(runs[i].got_cheese) for i in range(len(runs))]}\n",
    ")\n",
    "\n",
    "# Choose which keys to regress upon\n",
    "attributes = [\n",
    "    \"steps_between_cheese_5x5\",\n",
    "    \"euc_dist_cheese_5x5\",\n",
    "    \"steps_between_decision_square_5x5\",\n",
    "    \"euc_dist_decision_square_5x5\",\n",
    "    \"steps_between_cheese_top_right\",\n",
    "    \"euc_dist_cheese_top_right\",\n",
    "    \"steps_between_decision_square_top_right\",\n",
    "    \"euc_dist_decision_square_top_right\",\n",
    "    \"steps_between_cheese_decision_square\",\n",
    "    \"euc_dist_cheese_decision_square\",\n",
    "    \"cheese_coord_norm\",\n",
    "]\n",
    "\n",
    "n_runs = 50\n",
    "\n",
    "avg_accuracy = 0\n",
    "avg_coefficients = np.zeros(len(attributes) + 1)  # Add one for the intercept\n",
    "# We reduce variance in the score by running the regression multiple times\n",
    "for x in range(n_runs):\n",
    "    train, test = train_test_split(df, test_size=0.2)\n",
    "\n",
    "    clf = run_regression(attributes, train)\n",
    "    avg_coefficients[:-1] = (\n",
    "        clf.coef_[0] + avg_coefficients[:-1]\n",
    "    )  # Update all but last entry with coeffs\n",
    "    avg_coefficients[-1] += clf.intercept_[0]  # Last entry is the intercept\n",
    "\n",
    "    x = test[attributes]\n",
    "    y = np.ravel(test[[\"cheese\"]])\n",
    "    avg_accuracy += clf.score(x, y)\n",
    "\n",
    "avg_accuracy /= n_runs\n",
    "avg_coefficients /= n_runs\n",
    "# Print the coefficient for each attribute, printing the label next to each coefficient (for the last run)\n",
    "display_coeff_table(clf, attributes)\n",
    "# print(avg_coefficients / n_runs) # TODO show what avg coefficients are\n",
    "print(\n",
    "    f\"The average regression accuracy is {avg_accuracy:.3f}, averaged over\"\n",
    "    f\" {n_runs} regressions.\"\n",
    ")\n",
    "\n",
    "# Record the sign of the coefficients for each attribute\n",
    "regression_coeff_signs = {\n",
    "    attr: clf.coef_[0][i] > 0\n",
    "    for i, attr in enumerate(attributes)\n",
    "    if attr in claimed_attributes\n",
    "}"
   ]
  },
  {
   "cell_type": "code",
   "execution_count": 52,
   "id": "fc8c909c",
   "metadata": {},
   "outputs": [
    {
     "name": "stdout",
     "output_type": "stream",
     "text": [
      "Accuracy of the trivial \"always yes\" or \"always no\" predictor: 0.848\n"
     ]
    }
   ],
   "source": [
    "cheese_rate = sum(df[\"cheese\"]) / len(df[\"cheese\"])\n",
    "max_baseline = max(\n",
    "    cheese_rate, 1 - cheese_rate\n",
    ")  # Always predict \"cheese\" or \"no cheese\"\n",
    "print(\n",
    "    'Accuracy of the trivial \"always yes\" or \"always no\" predictor:'\n",
    "    f\" {max_baseline:.3f}\"\n",
    ")"
   ]
  },
  {
   "attachments": {},
   "cell_type": "markdown",
   "id": "19678d56",
   "metadata": {},
   "source": [
    "Let's examine whether it's predictively useful to know the Euclidean\n",
    "distance between the cheese and the decision square, given that we\n",
    "already know the step distance. (Spoiler: It is!)"
   ]
  },
  {
   "cell_type": "code",
   "execution_count": 53,
   "id": "f22f899f",
   "metadata": {},
   "outputs": [
    {
     "name": "stdout",
     "output_type": "stream",
     "text": [
      "\n",
      "+------------------------------------------+-------------+\n",
      "|                \u001b[1mAttribute\u001b[0m                 | \u001b[1mCoefficient\u001b[0m |\n",
      "+------------------------------------------+-------------+\n",
      "| \u001b[1mSteps between cheese and decision square\u001b[0m |    -1.072   |\n",
      "|                Intercept                 |    2.050    |\n",
      "+------------------------------------------+-------------+\n",
      "The accuracy for these attributes is 0.866, averaged over 100 regressions.\n",
      "\n",
      "\n",
      "+-------------------------------------------------------+-------------+\n",
      "|                       \u001b[1mAttribute\u001b[0m                       | \u001b[1mCoefficient\u001b[0m |\n",
      "+-------------------------------------------------------+-------------+\n",
      "|        \u001b[1mSteps between cheese and decision square\u001b[0m       |    -0.697   |\n",
      "| \u001b[1mEuclidean distance between cheese and decision square\u001b[0m |    -0.467   |\n",
      "|                       Intercept                       |    2.093    |\n",
      "+-------------------------------------------------------+-------------+\n",
      "The accuracy for these attributes is 0.849, averaged over 100 regressions.\n",
      "\n"
     ]
    }
   ],
   "source": [
    "attr_lists = [\n",
    "    [\"steps_between_cheese_decision_square\"],\n",
    "    [\n",
    "        \"steps_between_cheese_decision_square\",\n",
    "        \"euc_dist_cheese_decision_square\",\n",
    "    ],\n",
    "]\n",
    "n_regressions = 100\n",
    "\n",
    "for attr_list in attr_lists:\n",
    "    print()\n",
    "    clf = run_regression(attr_list, df)\n",
    "    display_coeff_table(clf, attr_list)\n",
    "    print(\n",
    "        \"The accuracy for these attributes is\"\n",
    "        f\" {compute_avg_accuracy(attr_list, df, n_regressions):.3f}, averaged\"\n",
    "        f\" over {n_regressions} regressions.\"\n",
    "    )\n",
    "    print()"
   ]
  },
  {
   "attachments": {},
   "cell_type": "markdown",
   "id": "33762c04",
   "metadata": {},
   "source": [
    "# Stress-testing our results\n",
    "Overall, the features we claimed to be important, still seem to be important, although to different strengths. The claimed attributes don't exhibit sign-flips in a range of conditions.\n",
    "\n",
    "## Trying to re-pinpoint the claimed features\n",
    "Peli Grietzer originally found the bolded attributes using the following methodology, which he describes as follows:\n",
    "\n",
    "> I did multiple logistic regression with all the factors at once, then did a multiple logistic regression with all-factors-except-x for each x and wrote down which factors caused test accuracy loss when dropped.\n",
    ">\n",
    "> Four factors caused non-trivial test accuracy loss, so I took those four factors and did a multiple logistic regression on these four factors, and saw that the test accuracy was as good as with all factors.\n",
    ">\n",
    "> I then tested dropping each of the four factors and using just three, and saw that there was a non-trivial drop in test accuracy for each of them.\n",
    ">\n",
    "> I then tested adding one additional factor to the four factors, trying every unused factor and seeing no increase in test accuracy.\n",
    "\n",
    "This section implements that methodology. This doesn't seem to replicate, which is some evidence against our initial results -- there's less of a reason to pick out the four attributes we did."
   ]
  },
  {
   "cell_type": "code",
   "execution_count": 54,
   "id": "d7fda0ed",
   "metadata": {},
   "outputs": [
    {
     "name": "stdout",
     "output_type": "stream",
     "text": [
      "When excluded, the following attributes caused a >0.5% relative drop in accuracy:\n",
      "\tTaxicab distance between cheese and decision square\n",
      "\tTaxicab distance between decision square and top right square\n",
      "\tSteps between decision square and top right square\n"
     ]
    }
   ],
   "source": [
    "# Do a multiple logistic regression with all-attributes-except-x for each x and store which attributes caused test accuracy loss when dropped.\n",
    "relative_drop = 0.005\n",
    "accuracy_drop_attrs = []\n",
    "num_runs = 5\n",
    "\n",
    "for attr in recorded_metrics.keys():\n",
    "    attr_accuracy = compute_avg_accuracy(\n",
    "        list(recorded_metrics.keys() - {attr}), df, num_runs\n",
    "    )\n",
    "    if attr_accuracy < avg_accuracy * (1 - relative_drop):\n",
    "        accuracy_drop_attrs.append(attr)\n",
    "\n",
    "print(\n",
    "    f\"When excluded, the following attributes caused a >{relative_drop*100}%\"\n",
    "    \" relative drop in accuracy:\"\n",
    ")\n",
    "for attr in accuracy_drop_attrs:\n",
    "    print(f\"\\t{format_attr(attr)}\")"
   ]
  },
  {
   "cell_type": "code",
   "execution_count": 55,
   "id": "88a3d5ff",
   "metadata": {},
   "outputs": [
    {
     "name": "stdout",
     "output_type": "stream",
     "text": [
      "The accuracy of the regression with the dropped attributes is 0.841.\n",
      "Accuracy of regression with dropped attributes is not as good as with all attributes.\n",
      "The accuracy of the regression with (Taxicab distance between cheese and decision square) dropped is not significantly lower than with all attributes (0.904).\n",
      "The accuracy of the regression with (Taxicab distance between decision square and top right square) dropped is not significantly lower than with all attributes (0.904).\n",
      "The accuracy of the regression with (Steps between decision square and top right square) dropped is not significantly lower than with all attributes (0.904).\n",
      "\n",
      "The accuracy of the regression with (Euclidean distance between decision square and top right square) added is not significantly higher than with all attributes.\n",
      "The accuracy of the regression with (Steps between cheese and top-right 5x5) added is not significantly higher than with all attributes.\n",
      "The accuracy of the regression with (Steps between cheese and top right square) added is not significantly higher than with all attributes.\n",
      "The accuracy of the regression with (Norm of cheese coordinate) added is not significantly higher than with all attributes.\n",
      "The accuracy of the regression with (Steps between decision square and top-right 5x5) added is not significantly higher than with all attributes.\n",
      "The accuracy of the regression with (Taxicab distance between decision square and top-right 5x5) added is not significantly higher than with all attributes.\n",
      "The accuracy of the regression with (\u001b[1mSteps between cheese and decision square\u001b[0m) added is not significantly higher than with all attributes.\n",
      "The accuracy of the regression with (Taxicab distance between cheese and top-right 5x5) added is not significantly higher than with all attributes.\n",
      "The accuracy of the regression with (\u001b[1mEuclidean distance between cheese and top right square\u001b[0m) added is not significantly higher than with all attributes.\n",
      "The accuracy of the regression with (\u001b[1mEuclidean distance between decision square and top-right 5x5\u001b[0m) added is not significantly higher than with all attributes.\n",
      "The accuracy of the regression with (\u001b[1mEuclidean distance between cheese and decision square\u001b[0m) added is not significantly higher than with all attributes.\n",
      "The accuracy of the regression with (Taxicab distance between cheese and top right square) added is not significantly higher than with all attributes.\n"
     ]
    }
   ],
   "source": [
    "# Take these attributes and run a multiple logistic regression on these attributes, and check that the test accuracy was as good as with all attributes.\n",
    "if len(accuracy_drop_attrs) > 0:\n",
    "    new_accuracy = compute_avg_accuracy(accuracy_drop_attrs, df, num_runs=10)\n",
    "    print(\n",
    "        \"The accuracy of the regression with the dropped attributes is\"\n",
    "        f\" {new_accuracy:.3f}.\"\n",
    "    )\n",
    "    if new_accuracy < avg_accuracy * (1 - relative_drop):\n",
    "        print(\n",
    "            \"Accuracy of regression with dropped attributes is not as good as\"\n",
    "            \" with all attributes.\"\n",
    "        )\n",
    "\n",
    "    # Try dropping each of the attributes that caused a drop in accuracy and verify that the accuracy drops significantly\n",
    "    for attr in accuracy_drop_attrs:\n",
    "        attr_accuracy = compute_avg_accuracy(\n",
    "            list(recorded_metrics.keys() - {attr}), df, num_runs=1\n",
    "        )\n",
    "        if attr_accuracy > avg_accuracy * (1 - relative_drop):\n",
    "            print(\n",
    "                f\"The accuracy of the regression with ({format_attr(attr)})\"\n",
    "                \" dropped is not significantly lower than with all attributes\"\n",
    "                f\" ({avg_accuracy:.3f}).\"\n",
    "            )\n",
    "    print()\n",
    "\n",
    "    # Try adding each of the attributes that did not cause a drop in accuracy and see if the accuracy increases significantly\n",
    "    for attr in list(recorded_metrics.keys() - set(accuracy_drop_attrs)):\n",
    "        attr_accuracy = compute_avg_accuracy(\n",
    "            list(recorded_metrics.keys() | {attr}), df, num_runs=1\n",
    "        )\n",
    "        if attr_accuracy > avg_accuracy * (1 - relative_drop):\n",
    "            print(\n",
    "                f\"The accuracy of the regression with ({format_attr(attr)})\"\n",
    "                \" added is not significantly higher than with all attributes.\"\n",
    "            )"
   ]
  },
  {
   "cell_type": "code",
   "execution_count": 56,
   "id": "927b82c3",
   "metadata": {},
   "outputs": [
    {
     "name": "stdout",
     "output_type": "stream",
     "text": [
      "+--------------------------------------------------------------+-------------+\n",
      "|                          \u001b[1mAttribute\u001b[0m                           | \u001b[1mCoefficient\u001b[0m |\n",
      "+--------------------------------------------------------------+-------------+\n",
      "|           \u001b[1mSteps between cheese and decision square\u001b[0m           |    -1.147   |\n",
      "|    \u001b[1mEuclidean distance between cheese and decision square\u001b[0m     |    -0.082   |\n",
      "|    \u001b[1mEuclidean distance between cheese and top right square\u001b[0m    |    -2.308   |\n",
      "| \u001b[1mEuclidean distance between decision square and top-right 5x5\u001b[0m |    0.731    |\n",
      "|                          Intercept                           |    3.012    |\n",
      "+--------------------------------------------------------------+-------------+\n",
      "Claimed attributes obtain accuracy of 0.913, which is -0.835 absolute percent less than when all features are used.\n"
     ]
    }
   ],
   "source": [
    "claimed_accuracy = compute_avg_accuracy(claimed_attributes, df, num_runs=10)\n",
    "clf = run_regression(claimed_attributes, df)\n",
    "display_coeff_table(clf, claimed_attributes)\n",
    "print(\n",
    "    f\"Claimed attributes obtain accuracy of {claimed_accuracy:.3f}, which is\"\n",
    "    f\" {(avg_accuracy - claimed_accuracy)*100:.3f} absolute percent less than\"\n",
    "    \" when all features are used.\"\n",
    ")"
   ]
  },
  {
   "attachments": {},
   "cell_type": "markdown",
   "id": "116e6e4c",
   "metadata": {},
   "source": [
    "## Robustness to regressing on random subsets of attributes\n",
    "\n",
    "When regressing on related factors (e.g. Euclidean and step distance to cheese from decision square), we might wonder: \"Did these coefficients only come out this way as a fluke of the regression itself?\". For example, factor subset X may induce feature $a$ to have a positive coefficient, while a different factor subset Y induces $a$ with a negative regression coefficient. Encouragingly, the signs of our claimed attributes are highly robust to which set of factors we regress upon."
   ]
  },
  {
   "cell_type": "code",
   "execution_count": 57,
   "id": "224e12a0",
   "metadata": {},
   "outputs": [],
   "source": [
    "def run_subset_regression(\n",
    "    data_frame: pd.DataFrame, n_attrs: int, verbose: bool = False\n",
    ") -> Tuple[Any, List[str]]:\n",
    "    \"\"\"Runs a regression on the data frame using a random subset of n_attrs attributes. Returns the clf and the attributes used.\"\"\"\n",
    "    attrs = random.sample(list(recorded_metrics.keys() - {\"cheese\"}), n_attrs)\n",
    "    clf = run_regression(attrs, train)\n",
    "\n",
    "    if verbose:\n",
    "        display_coeff_table(clf, attrs)\n",
    "\n",
    "    return clf, attrs\n",
    "\n",
    "\n",
    "def check_claimed_signs(\n",
    "    clf: Any, attrs: List[str], data_frame: pd.DataFrame, verbose: bool = False\n",
    ") -> Dict[str, int]:\n",
    "    \"\"\"Checks if the signs of the regression coefficients for the given attributes match regression_coeff_signs. Returns a dictionary which counts the number of times each attribute had the wrong sign.\"\"\"\n",
    "    counters = defaultdict(int)\n",
    "\n",
    "    for i, attr in enumerate(attrs):\n",
    "        if attr not in regression_coeff_signs.keys() or attr in counters:\n",
    "            continue\n",
    "        assert attr in data_frame, f\"Attribute {attr} not in data frame\"\n",
    "        if (clf.coef_[0][i] >= 0) != regression_coeff_signs[attr]:\n",
    "            if verbose:\n",
    "                print(\n",
    "                    f\"Attribute {attr} has incorrect sign; expected\"\n",
    "                    f\" {regression_coeff_signs[attr]} but got\"\n",
    "                    f\" {clf.coef_[0][i] >= 0}\"\n",
    "                )\n",
    "                display_coeff_table(clf, attrs)\n",
    "            counters[\n",
    "                attr\n",
    "            ] += 1  # Increment the attribute that had the incorrect sign\n",
    "    return counters\n",
    "\n",
    "\n",
    "# Run the regression multiple times and check the signs\n",
    "# See distribution of sign errors over multiple runs\n",
    "counter = {attr: 0 for attr in claimed_attributes}\n",
    "n_rand_runs = 200\n",
    "for x in range(n_rand_runs):\n",
    "    # Draw a random number of attributes to use\n",
    "    n_attrs = random.randint(1, len(recorded_metrics.keys()) - 1)\n",
    "    clf, attrs = run_subset_regression(train, n_attrs)\n",
    "    new_counter = check_claimed_signs(clf, attrs, train, verbose=False)\n",
    "    for key in new_counter.keys():\n",
    "        counter[key] += new_counter[key]"
   ]
  },
  {
   "cell_type": "code",
   "execution_count": 58,
   "id": "d96cd3ac",
   "metadata": {},
   "outputs": [
    {
     "name": "stdout",
     "output_type": "stream",
     "text": [
      "+--------------------------------------------------------------+-----------------------------+\n",
      "|                          Attribute                           | % of runs with flipped sign |\n",
      "+--------------------------------------------------------------+-----------------------------+\n",
      "|           Steps between cheese and decision square           |             0.0             |\n",
      "|    Euclidean distance between cheese and decision square     |             6.0             |\n",
      "|    Euclidean distance between cheese and top right square    |             22.0            |\n",
      "| Euclidean distance between decision square and top-right 5x5 |             50.0            |\n",
      "+--------------------------------------------------------------+-----------------------------+\n"
     ]
    }
   ],
   "source": [
    "# Print a table displaying the percentage of times each attribute had the wrong sign\n",
    "sign_table = prettytable.PrettyTable()\n",
    "sign_table.field_names = [\"Attribute\", \"% of runs with flipped sign\"]\n",
    "for key in counter.keys():\n",
    "    sign_table.add_row([english_attr(key), counter[key] / n_rand_runs * 100])\n",
    "print(sign_table)"
   ]
  },
  {
   "attachments": {},
   "cell_type": "markdown",
   "id": "83f3df78",
   "metadata": {},
   "source": [
    "## Variation inflation factor (VIF)\n",
    "As I (Alex) understand it, VIF measures how much of the variance of the regression coefficients are due to multicollinearity. Restricting our attention to the features mentioned in the post, the VIF scores are medium-high (but tolerable), while including all features leads to extremely high VIF. This is some weak further evidence that our regression was not a statistical fluke or modeling decision (but I'm not a statistician!)."
   ]
  },
  {
   "cell_type": "code",
   "execution_count": 59,
   "id": "8ba3bf95",
   "metadata": {},
   "outputs": [
    {
     "name": "stdout",
     "output_type": "stream",
     "text": [
      "\n",
      "VIF for claimed attributes\n",
      "                               Features       VIF\n",
      "0  steps_between_cheese_decision_square  4.057181\n",
      "1       euc_dist_cheese_decision_square  4.135968\n",
      "2             euc_dist_cheese_top_right  2.824415\n",
      "3          euc_dist_decision_square_5x5  2.707579\n",
      "\n",
      "VIF for all attributes\n",
      "                                   Features          VIF\n",
      "0           euc_dist_cheese_decision_square    29.897902\n",
      "1          taxi_dist_cheese_decision_square    30.168496\n",
      "2      steps_between_cheese_decision_square          inf\n",
      "3            steps_between_cheese_top_right          inf\n",
      "4                 euc_dist_cheese_top_right  1006.961628\n",
      "5                taxi_dist_cheese_top_right   193.181512\n",
      "6        euc_dist_decision_square_top_right  1123.675729\n",
      "7       taxi_dist_decision_square_top_right   569.879727\n",
      "8   steps_between_decision_square_top_right          inf\n",
      "9                  steps_between_cheese_5x5    13.811472\n",
      "10        steps_between_decision_square_5x5    25.004002\n",
      "11                      euc_dist_cheese_5x5   585.748306\n",
      "12                     taxi_dist_cheese_5x5   104.870929\n",
      "13             euc_dist_decision_square_5x5   606.998697\n",
      "14            taxi_dist_decision_square_5x5   294.197936\n",
      "15                        cheese_coord_norm     3.418659\n"
     ]
    }
   ],
   "source": [
    "# Let's compute VIF (variance inflation factor) for each attribute\n",
    "# This is a measure of how much the variance of the coefficient is inflated due to multicollinearity\n",
    "# Above 5 is usually considered to be a sign of that\n",
    "from statsmodels.stats.outliers_influence import variance_inflation_factor\n",
    "\n",
    "# Ignore runtime warnings due to division by 0 from R2=1\n",
    "import warnings\n",
    "\n",
    "warnings.filterwarnings(\"ignore\")\n",
    "\n",
    "for attrs in [claimed_attributes, recorded_metrics.keys()]:\n",
    "    print()\n",
    "    print(\n",
    "        \"VIF for claimed attributes\"\n",
    "        if attrs == claimed_attributes\n",
    "        else \"VIF for all attributes\"\n",
    "    )\n",
    "    vif = pd.DataFrame()\n",
    "    vif[\"Features\"] = df[attrs].columns\n",
    "    vif[\"VIF\"] = [\n",
    "        variance_inflation_factor(df[attrs].values, i)\n",
    "        for i in range(df[attrs].shape[1])\n",
    "    ]\n",
    "\n",
    "    print(vif)"
   ]
  }
 ],
 "metadata": {
  "kernelspec": {
   "display_name": "MATS",
   "language": "python",
   "name": "python3"
  },
  "language_info": {
   "codemirror_mode": {
    "name": "ipython",
    "version": 3
   },
   "file_extension": ".py",
   "mimetype": "text/x-python",
   "name": "python",
   "nbconvert_exporter": "python",
   "pygments_lexer": "ipython3",
   "version": "3.10.9"
  },
  "vscode": {
   "interpreter": {
    "hash": "4c77f2f46953a93e2cdf30c808e94602375d16ad6294e549473c1f301bc8b554"
   }
  }
 },
 "nbformat": 4,
 "nbformat_minor": 5
}

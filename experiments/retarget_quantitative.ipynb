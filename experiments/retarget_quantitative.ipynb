{
 "cells": [
  {
   "cell_type": "code",
   "execution_count": 13,
   "metadata": {},
   "outputs": [
    {
     "name": "stdout",
     "output_type": "stream",
     "text": [
      "Already downloaded https://nerdsniper.net/mats/model_rand_region_5.pth\n"
     ]
    }
   ],
   "source": [
    "try:\n",
    "    import procgen_tools\n",
    "except ImportError:\n",
    "    get_ipython().run_line_magic(\n",
    "        magic_name=\"pip\",\n",
    "        line=\"install -U git+https://github.com/ulissemini/procgen-tools\",\n",
    "    )\n",
    "\n",
    "from procgen_tools.utils import setup\n",
    "\n",
    "setup()  # create directory structure and download data\n",
    "\n",
    "from procgen_tools.imports import *\n",
    "from procgen_tools import maze, visualization, models, patch_utils\n",
    "from typing import Tuple, Dict, List, Optional, Union\n",
    "from ipywidgets import interact, interactive, fixed, interact_manual\n",
    "import ipywidgets as widgets\n",
    "import tqdm\n",
    "\n",
    "AX_SIZE = 4\n",
    "\n",
    "cheese_channels = [7, 8, 42, 44, 55, 77, 82, 88, 89, 99, 113]\n",
    "effective_channels = [8, 55, 77, 82, 88, 89, 113]"
   ]
  },
  {
   "attachments": {},
   "cell_type": "markdown",
   "metadata": {},
   "source": [
    "# Showing mean probability of reaching each part of the maze\n",
    "Let's show a \"heatmap\" of the agent's propensity to visit each square of\n",
    "the maze. Each tile is colored red according to the policy's geometric mean probability\n",
    "along the path to that tile. "
   ]
  },
  {
   "cell_type": "code",
   "execution_count": 14,
   "metadata": {},
   "outputs": [
    {
     "data": {
      "application/vnd.jupyter.widget-view+json": {
       "model_id": "61ec3ea656234635b2e3e3ef00c2433e",
       "version_major": 2,
       "version_minor": 0
      },
      "text/plain": [
       "interactive(children=(IntSlider(value=50, description='seed'), Output()), _dom_classes=('widget-interact',))"
      ]
     },
     "metadata": {},
     "output_type": "display_data"
    }
   ],
   "source": [
    "@interact(seed=(0, 100))\n",
    "def show_grid_heatmap_interactive(seed: int) -> None:\n",
    "    \"\"\"Show a heatmap over the maze using matplotlib.\n",
    "\n",
    "    Args:\n",
    "        seed: Seed of the maze\n",
    "    \"\"\"\n",
    "    venv = maze.create_venv(num=1, start_level=seed, num_levels=1)\n",
    "    heatmap: np.ndarray = visualization.vf_heatmap(venv, hook)\n",
    "\n",
    "    # TODO maybe add a colorbar?\n",
    "    visualization.show_grid_heatmap(\n",
    "        venv=venv,\n",
    "        heatmap=heatmap,\n",
    "        mode=\"human\",\n",
    "        ax_size=AX_SIZE,\n",
    "    )"
   ]
  },
  {
   "attachments": {},
   "cell_type": "markdown",
   "metadata": {},
   "source": [
    "# Let's load the retargeting data"
   ]
  },
  {
   "cell_type": "code",
   "execution_count": 16,
   "metadata": {},
   "outputs": [],
   "source": [
    "dfs = []\n",
    "DATA_DIR = \"experiments/statistics/data/retargeting\"\n",
    "# Find every CSV file\n",
    "for file in os.listdir(DATA_DIR):\n",
    "    if file.endswith(\".csv\"):\n",
    "        df = pd.read_csv(os.path.join(DATA_DIR, file))\n",
    "        dfs.append(df)\n",
    "data = pd.concat(dfs, ignore_index=True)"
   ]
  },
  {
   "attachments": {},
   "cell_type": "markdown",
   "metadata": {},
   "source": [
    "## Visualizing retargetability in different mazes using different criteria\n",
    "\n",
    "Each heatmap shows the geometric mean probability of navigating to a\n",
    "tile, given:\n",
    "1. \"Cheese\": The cheese is placed at the given tile. \n",
    "2. \"Effective\": Channels `[8, 55, 77, 82, 88, 89, 113]` are clamped to\n",
    "   `+2.3` at a filter corresponding to the given maze location.\n",
    "3. \"All\": Channels `[7, 8, 42, 44, 55, 77, 82, 88, 89, 99, 113]` are\n",
    "   clamped to `+1.0`.\n",
    "4. \"Normal\": No intervention.\n",
    "5. \"55\": Channel `[55]` is clamped to `+5.5`.\n",
    "\n",
    "If no cheese is shown in the maze, then the cheese was removed from its\n",
    "original position at that seed (i.e. the maze is empty, unless the\n",
    "\"cheese\" condition is forcing cheese to different tiles.)"
   ]
  },
  {
   "cell_type": "code",
   "execution_count": 37,
   "metadata": {},
   "outputs": [
    {
     "data": {
      "application/vnd.jupyter.widget-view+json": {
       "model_id": "642a9b6912284f7a8da63d8e8c858205",
       "version_major": 2,
       "version_minor": 0
      },
      "text/plain": [
       "interactive(children=(IntSlider(value=0, description='seed'), Dropdown(description='prob_type', options=('chee…"
      ]
     },
     "metadata": {},
     "output_type": "display_data"
    }
   ],
   "source": [
    "# Show a retargeting heatmap for each maze\n",
    "@interact(\n",
    "    seed=IntSlider(min=0, max=100, step=1, value=0),\n",
    "    prob_type=[\"cheese\", \"effective\", \"all\", \"normal\", \"55\"],\n",
    ")\n",
    "def show_retargeting_heatmap_interactive(seed: int, prob_type: str) -> None:\n",
    "    \"\"\"Show a heatmap over the maze using matplotlib.\n",
    "\n",
    "    Args:\n",
    "        seed: Seed of the maze\n",
    "        prob_type: Type of heatmap to show\n",
    "    \"\"\"\n",
    "    venv = maze.create_venv(num=1, start_level=seed, num_levels=1)\n",
    "    seed_data: pd.DataFrame = data[data[\"seed\"] == seed]\n",
    "    label = prob_type\n",
    "    if prob_type == \"all\":\n",
    "        label = str(cheese_channels)\n",
    "    elif prob_type == \"effective\":\n",
    "        label = str(effective_channels)\n",
    "    elif prob_type == \"55\":\n",
    "        label = \"[55]\"\n",
    "\n",
    "    prob_data = seed_data[seed_data[\"intervention\"] == label]\n",
    "    # Check if removed_cheese is true for prob_data's first row\n",
    "    if prob_data[\"removed_cheese\"].iloc[0]:\n",
    "        venv = maze.remove_all_cheese(venv)\n",
    "\n",
    "    heatmap = prob_data.pivot(index=\"row\", columns=\"col\", values=\"probability\")\n",
    "\n",
    "    visualization.show_grid_heatmap(\n",
    "        venv=venv,\n",
    "        heatmap=heatmap.values,\n",
    "        ax_size=AX_SIZE,\n",
    "        mode=\"human\",\n",
    "        size=0.5,\n",
    "        alpha=0.9,\n",
    "    )"
   ]
  }
 ],
 "metadata": {
  "kernelspec": {
   "display_name": "Python 3",
   "language": "python",
   "name": "python3"
  },
  "language_info": {
   "codemirror_mode": {
    "name": "ipython",
    "version": 3
   },
   "file_extension": ".py",
   "mimetype": "text/x-python",
   "name": "python",
   "nbconvert_exporter": "python",
   "pygments_lexer": "ipython3",
   "version": "3.10.9"
  },
  "orig_nbformat": 4
 },
 "nbformat": 4,
 "nbformat_minor": 2
}
